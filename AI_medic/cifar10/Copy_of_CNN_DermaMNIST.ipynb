{
  "nbformat": 4,
  "nbformat_minor": 0,
  "metadata": {
    "colab": {
      "name": "Copy of CNN_DermaMNIST.ipynb",
      "provenance": [],
      "collapsed_sections": [],
      "authorship_tag": "ABX9TyPDaoEkmnt2P0Wr48xHv/QF",
      "include_colab_link": true
    },
    "kernelspec": {
      "display_name": "Python 3",
      "name": "python3"
    },
    "language_info": {
      "name": "python"
    },
    "accelerator": "GPU"
  },
  "cells": [
    {
      "cell_type": "markdown",
      "metadata": {
        "id": "view-in-github",
        "colab_type": "text"
      },
      "source": [
        "<a href=\"https://colab.research.google.com/github/Zzmirror/AI_medic/blob/main/AI_medic/cifar10/Copy_of_CNN_DermaMNIST.ipynb\" target=\"_parent\"><img src=\"https://colab.research.google.com/assets/colab-badge.svg\" alt=\"Open In Colab\"/></a>"
      ]
    },
    {
      "cell_type": "markdown",
      "metadata": {
        "id": "km64kj-GaMsF"
      },
      "source": [
        "# Loading data"
      ]
    },
    {
      "cell_type": "code",
      "metadata": {
        "id": "46oyD268hEmY"
      },
      "source": [
        "import numpy as np\n",
        "from tensorflow.keras.utils import to_categorical"
      ],
      "execution_count": null,
      "outputs": []
    },
    {
      "cell_type": "code",
      "metadata": {
        "id": "EPhAtKnUghHI",
        "colab": {
          "base_uri": "https://localhost:8080/"
        },
        "outputId": "a6647d1b-7850-4b3f-f685-1e43c09f577c"
      },
      "source": [
        " \n",
        "!wget -O Data.npz https://zenodo.org/record/4269852/files/dermamnist.npz?download=1\n",
        "data=np.load('Data.npz')\n",
        "print(data.files)\n",
        "print(\"train_labels : \" ,data['train_labels'].shape)\n",
        "print(\"train_images : \" , data['train_images'].shape)\n",
        "print(\"val_images :\" , data['val_images'].shape)\n",
        "print(\"test_images :\" , data['test_images'].shape)\n",
        "print(\"train_labels\" , data['train_labels'].shape)"
      ],
      "execution_count": null,
      "outputs": [
        {
          "output_type": "stream",
          "text": [
            "--2021-08-16 17:54:51--  https://zenodo.org/record/4269852/files/dermamnist.npz?download=1\n",
            "Resolving zenodo.org (zenodo.org)... 137.138.76.77\n",
            "Connecting to zenodo.org (zenodo.org)|137.138.76.77|:443... connected.\n",
            "HTTP request sent, awaiting response... 200 OK\n",
            "Length: 19725078 (19M) [application/octet-stream]\n",
            "Saving to: ‘Data.npz’\n",
            "\n",
            "Data.npz            100%[===================>]  18.81M  7.84MB/s    in 2.4s    \n",
            "\n",
            "2021-08-16 17:54:55 (7.84 MB/s) - ‘Data.npz’ saved [19725078/19725078]\n",
            "\n",
            "['train_images', 'val_images', 'test_images', 'train_labels', 'val_labels', 'test_labels']\n",
            "train_labels :  (7007, 1)\n",
            "train_images :  (7007, 28, 28, 3)\n",
            "val_images : (1003, 28, 28, 3)\n",
            "test_images : (2005, 28, 28, 3)\n",
            "train_labels (7007, 1)\n"
          ],
          "name": "stdout"
        }
      ]
    },
    {
      "cell_type": "code",
      "metadata": {
        "colab": {
          "base_uri": "https://localhost:8080/"
        },
        "id": "afBOLnVwKMx4",
        "outputId": "c1effe06-8a6f-4099-9dee-50a3decd718a"
      },
      "source": [
        "for i in range(7):\n",
        "  print(\"class \" , i ,\":\"  , np.count_nonzero(data['train_labels'] == i))"
      ],
      "execution_count": null,
      "outputs": [
        {
          "output_type": "stream",
          "text": [
            "class  0 : 228\n",
            "class  1 : 359\n",
            "class  2 : 769\n",
            "class  3 : 80\n",
            "class  4 : 779\n",
            "class  5 : 4693\n",
            "class  6 : 99\n"
          ],
          "name": "stdout"
        }
      ]
    },
    {
      "cell_type": "markdown",
      "metadata": {
        "id": "1s0lBuLomZQN"
      },
      "source": [
        "## preprosseing:"
      ]
    },
    {
      "cell_type": "code",
      "metadata": {
        "colab": {
          "base_uri": "https://localhost:8080/"
        },
        "id": "HC33m2YLmcpt",
        "outputId": "639f434d-cb38-4e7d-e8cf-066002b8bebf"
      },
      "source": [
        " \n",
        "X_train= data['train_images'] / 255\n",
        "X_val = data['val_images'] / 255\n",
        "X_test = data['test_images'] / 255\n",
        " \n",
        "Y_train = to_categorical(data['train_labels'])\n",
        "Y_val = to_categorical(data['val_labels'])\n",
        "Y_test = to_categorical(data['test_labels'])\n",
        " \n",
        "print(Y_train.shape)"
      ],
      "execution_count": null,
      "outputs": [
        {
          "output_type": "stream",
          "text": [
            "(7007, 7)\n"
          ],
          "name": "stdout"
        }
      ]
    },
    {
      "cell_type": "markdown",
      "metadata": {
        "id": "PWxsKzBNnwlS"
      },
      "source": [
        "# setting class weight :"
      ]
    },
    {
      "cell_type": "code",
      "metadata": {
        "id": "MYIsK23mP7EI"
      },
      "source": [
        "\n",
        "class_weight = {0: 20,\n",
        "                1: 20 ,\n",
        "               2 : 20 ,\n",
        "               3 : 50 ,\n",
        "               4 : 20 ,\n",
        "                5 : 1 ,\n",
        "               6 : 50}"
      ],
      "execution_count": null,
      "outputs": []
    },
    {
      "cell_type": "markdown",
      "metadata": {
        "id": "KSoo8zsmn3OI"
      },
      "source": [
        "# creating ImageDataGenerator"
      ]
    },
    {
      "cell_type": "code",
      "metadata": {
        "id": "p7vKHpWYP7L2"
      },
      "source": [
        "from keras.preprocessing.image import ImageDataGenerator\n",
        "\n",
        "datagen_train = ImageDataGenerator(\n",
        "    rotation_range=30,\n",
        "    width_shift_range=10,\n",
        "    height_shift_range=10,\n",
        "    brightness_range=(0.3, 1.8),\n",
        "    shear_range=5,\n",
        "    zoom_range=0.2,\n",
        "    fill_mode = 'wrap',\n",
        "    horizontal_flip = True, \n",
        ")\n",
        "\n",
        "datagen_validation = ImageDataGenerator(\n",
        "    rotation_range=30,\n",
        "    width_shift_range=10,\n",
        "    height_shift_range=10,\n",
        "    brightness_range=(0.3, 1.8),\n",
        "    shear_range=5,\n",
        "    zoom_range=0.2,\n",
        "    fill_mode = 'wrap',\n",
        "    horizontal_flip = True, \n",
        ")\n",
        "\n",
        "train_gen = datagen_train.flow(X_train, Y_train, batch_size=32)\n",
        "val_gen = datagen_validation.flow(X_train, Y_train, batch_size=32)"
      ],
      "execution_count": null,
      "outputs": []
    },
    {
      "cell_type": "markdown",
      "metadata": {
        "id": "HjQt1RDN97JX"
      },
      "source": [
        "\n",
        "\n",
        "\n",
        "## VGG16  artichecture :"
      ]
    },
    {
      "cell_type": "code",
      "metadata": {
        "id": "Lwbq-Ad0-L-X"
      },
      "source": [
        "from tensorflow.keras import Sequential\n",
        "from tensorflow.keras.regularizers import l1, l2\n",
        "from tensorflow.keras.layers import Conv2D, MaxPool2D, Flatten, Dense, Dropout , AvgPool2D\n",
        "from tensorflow.keras.utils import to_categorical\n",
        "from tensorflow.keras.optimizers import Adam"
      ],
      "execution_count": null,
      "outputs": []
    },
    {
      "cell_type": "markdown",
      "metadata": {
        "id": "eXyz_nLeoHMf"
      },
      "source": [
        "creating our main model :\n",
        "\n"
      ]
    },
    {
      "cell_type": "code",
      "metadata": {
        "colab": {
          "base_uri": "https://localhost:8080/"
        },
        "id": "tAVCbAbs-Anu",
        "outputId": "bfe542a6-b357-40e3-83d7-e2caedf5d3ac"
      },
      "source": [
        " \n",
        " \n",
        "model = Sequential()\n",
        " \n",
        "model.add(Conv2D(32, (3 , 3), activation='relu', padding='same', input_shape=(28, 28, 3) , kernel_regularizer=l2(0.001) ))\n",
        "model.add(Conv2D(32, (3 , 3), activation='relu', padding='same' , kernel_regularizer=l2(0.001)))\n",
        "model.add(AvgPool2D((2, 2), strides=(2 , 2)))\n",
        "model.add(Dropout(0.2))\n",
        " \n",
        "model.add(Conv2D(64, (3 , 3), activation='relu', padding='same' , kernel_regularizer=l2(0.001)))\n",
        "model.add(Conv2D(64, (3 , 3), activation='relu', padding='same' , kernel_regularizer=l2(0.001)))\n",
        "model.add(AvgPool2D((2, 2), strides=(2 , 2)))\n",
        "model.add(Dropout(0.2)) \n",
        " \n",
        "model.add(Conv2D(128, (3 , 3), activation='relu', padding='same' , kernel_regularizer=l2(0.001)))\n",
        "model.add(Conv2D(128, (3 , 3), activation='relu', padding='same' , kernel_regularizer=l2(0.001)))\n",
        "model.add(AvgPool2D((2 , 2), strides=(2 , 2)))\n",
        "model.add(Dropout(0.2))\n",
        " \n",
        "model.add(Conv2D(512, (3 , 3), activation='relu', padding='same' , kernel_regularizer=l2(0.001)))\n",
        "model.add(Conv2D(512, (3 , 3), activation='relu', padding='same' , kernel_regularizer=l2(0.001)))\n",
        "model.add(Conv2D(512, (3 , 3), activation='relu', padding='same' , kernel_regularizer=l2(0.001)))\n",
        "model.add(AvgPool2D((2, 2), strides=(2 , 2)))\n",
        "model.add(Dropout(0.2))\n",
        " \n",
        "model.add(Flatten())\n",
        "model.add(Dense(100, activation='relu'))\n",
        "model.add(Dense(7, activation='softmax'))\n",
        " \n",
        "model.summary()"
      ],
      "execution_count": null,
      "outputs": [
        {
          "output_type": "stream",
          "text": [
            "Model: \"sequential\"\n",
            "_________________________________________________________________\n",
            "Layer (type)                 Output Shape              Param #   \n",
            "=================================================================\n",
            "conv2d (Conv2D)              (None, 28, 28, 32)        896       \n",
            "_________________________________________________________________\n",
            "conv2d_1 (Conv2D)            (None, 28, 28, 32)        9248      \n",
            "_________________________________________________________________\n",
            "average_pooling2d (AveragePo (None, 14, 14, 32)        0         \n",
            "_________________________________________________________________\n",
            "dropout (Dropout)            (None, 14, 14, 32)        0         \n",
            "_________________________________________________________________\n",
            "conv2d_2 (Conv2D)            (None, 14, 14, 64)        18496     \n",
            "_________________________________________________________________\n",
            "conv2d_3 (Conv2D)            (None, 14, 14, 64)        36928     \n",
            "_________________________________________________________________\n",
            "average_pooling2d_1 (Average (None, 7, 7, 64)          0         \n",
            "_________________________________________________________________\n",
            "dropout_1 (Dropout)          (None, 7, 7, 64)          0         \n",
            "_________________________________________________________________\n",
            "conv2d_4 (Conv2D)            (None, 7, 7, 128)         73856     \n",
            "_________________________________________________________________\n",
            "conv2d_5 (Conv2D)            (None, 7, 7, 128)         147584    \n",
            "_________________________________________________________________\n",
            "average_pooling2d_2 (Average (None, 3, 3, 128)         0         \n",
            "_________________________________________________________________\n",
            "dropout_2 (Dropout)          (None, 3, 3, 128)         0         \n",
            "_________________________________________________________________\n",
            "conv2d_6 (Conv2D)            (None, 3, 3, 512)         590336    \n",
            "_________________________________________________________________\n",
            "conv2d_7 (Conv2D)            (None, 3, 3, 512)         2359808   \n",
            "_________________________________________________________________\n",
            "conv2d_8 (Conv2D)            (None, 3, 3, 512)         2359808   \n",
            "_________________________________________________________________\n",
            "average_pooling2d_3 (Average (None, 1, 1, 512)         0         \n",
            "_________________________________________________________________\n",
            "dropout_3 (Dropout)          (None, 1, 1, 512)         0         \n",
            "_________________________________________________________________\n",
            "flatten (Flatten)            (None, 512)               0         \n",
            "_________________________________________________________________\n",
            "dense (Dense)                (None, 100)               51300     \n",
            "_________________________________________________________________\n",
            "dense_1 (Dense)              (None, 7)                 707       \n",
            "=================================================================\n",
            "Total params: 5,648,967\n",
            "Trainable params: 5,648,967\n",
            "Non-trainable params: 0\n",
            "_________________________________________________________________\n"
          ],
          "name": "stdout"
        }
      ]
    },
    {
      "cell_type": "markdown",
      "metadata": {
        "id": "Cbwvr1zRoOz7"
      },
      "source": [
        "creating a simple modle for testing DataGenerator"
      ]
    },
    {
      "cell_type": "code",
      "metadata": {
        "colab": {
          "base_uri": "https://localhost:8080/"
        },
        "id": "qV_RYtOGWagS",
        "outputId": "4397e2a7-e42a-4547-9069-0790b7e0f322"
      },
      "source": [
        "model = Sequential()\n",
        " \n",
        "model.add(Conv2D(32, (3, 3), activation='relu', padding='same', input_shape=(28, 28, 3)  ))\n",
        "model.add(Conv2D(32, (3, 3), activation='relu', padding='same' ))\n",
        "model.add(MaxPool2D((3, 3), strides=(2, 2)))\n",
        " \n",
        "model.add(Conv2D(64, (3, 3), activation='relu', padding='same' ))\n",
        "model.add(Conv2D(64, (3, 3), activation='relu', padding='same' ))\n",
        "model.add(MaxPool2D((2, 2), strides=(2, 2)))\n",
        " \n",
        "model.add(Conv2D(128, (3, 3), activation='relu', padding='same' ))\n",
        "model.add(Conv2D(128, (3, 3), activation='relu', padding='same'))\n",
        "model.add(MaxPool2D((2 , 2), strides=(2, 2)))\n",
        "\n",
        "model.add(Conv2D(512, (3, 3), activation='relu', padding='same'))\n",
        "model.add(Conv2D(512, (3, 3), activation='relu', padding='same' ))\n",
        "model.add(Conv2D(512, (3, 3), activation='relu', padding='same' ))\n",
        "model.add(MaxPool2D((2, 2), strides=(2, 2)))\n",
        " \n",
        "model.add(Flatten())\n",
        "model.add(Dense(100, activation='relu'))\n",
        "model.add(Dense(7, activation='softmax'))\n",
        " \n",
        "model.summary()"
      ],
      "execution_count": null,
      "outputs": [
        {
          "output_type": "stream",
          "text": [
            "Model: \"sequential_1\"\n",
            "_________________________________________________________________\n",
            "Layer (type)                 Output Shape              Param #   \n",
            "=================================================================\n",
            "conv2d_9 (Conv2D)            (None, 28, 28, 32)        896       \n",
            "_________________________________________________________________\n",
            "conv2d_10 (Conv2D)           (None, 28, 28, 32)        9248      \n",
            "_________________________________________________________________\n",
            "max_pooling2d_4 (MaxPooling2 (None, 13, 13, 32)        0         \n",
            "_________________________________________________________________\n",
            "conv2d_11 (Conv2D)           (None, 13, 13, 64)        18496     \n",
            "_________________________________________________________________\n",
            "conv2d_12 (Conv2D)           (None, 13, 13, 64)        36928     \n",
            "_________________________________________________________________\n",
            "max_pooling2d_5 (MaxPooling2 (None, 6, 6, 64)          0         \n",
            "_________________________________________________________________\n",
            "conv2d_13 (Conv2D)           (None, 6, 6, 128)         73856     \n",
            "_________________________________________________________________\n",
            "conv2d_14 (Conv2D)           (None, 6, 6, 128)         147584    \n",
            "_________________________________________________________________\n",
            "max_pooling2d_6 (MaxPooling2 (None, 3, 3, 128)         0         \n",
            "_________________________________________________________________\n",
            "conv2d_15 (Conv2D)           (None, 3, 3, 512)         590336    \n",
            "_________________________________________________________________\n",
            "conv2d_16 (Conv2D)           (None, 3, 3, 512)         2359808   \n",
            "_________________________________________________________________\n",
            "conv2d_17 (Conv2D)           (None, 3, 3, 512)         2359808   \n",
            "_________________________________________________________________\n",
            "max_pooling2d_7 (MaxPooling2 (None, 1, 1, 512)         0         \n",
            "_________________________________________________________________\n",
            "flatten_1 (Flatten)          (None, 512)               0         \n",
            "_________________________________________________________________\n",
            "dense_2 (Dense)              (None, 100)               51300     \n",
            "_________________________________________________________________\n",
            "dense_3 (Dense)              (None, 7)                 707       \n",
            "=================================================================\n",
            "Total params: 5,648,967\n",
            "Trainable params: 5,648,967\n",
            "Non-trainable params: 0\n",
            "_________________________________________________________________\n"
          ],
          "name": "stdout"
        }
      ]
    },
    {
      "cell_type": "code",
      "metadata": {
        "id": "f-iv9pg-CFpx"
      },
      "source": [
        "model.compile(optimizer=Adam(learning_rate=0.0001), loss='categorical_crossentropy', metrics=['acc'])"
      ],
      "execution_count": null,
      "outputs": []
    },
    {
      "cell_type": "code",
      "metadata": {
        "colab": {
          "base_uri": "https://localhost:8080/"
        },
        "id": "b8CY5BgNVzEL",
        "outputId": "37444f9b-52c0-40c4-9e2f-403e3138ec68"
      },
      "source": [
        "history = model.fit(X_train, Y_train , batch_size=32, epochs=100,  validation_data=(X_val, Y_val))"
      ],
      "execution_count": null,
      "outputs": [
        {
          "output_type": "stream",
          "text": [
            "Epoch 1/100\n",
            "219/219 [==============================] - 36s 18ms/step - loss: 2.1111 - acc: 0.6662 - val_loss: 1.7028 - val_acc: 0.6690\n",
            "Epoch 2/100\n",
            "219/219 [==============================] - 3s 14ms/step - loss: 1.5309 - acc: 0.6698 - val_loss: 1.4526 - val_acc: 0.6690\n",
            "Epoch 3/100\n",
            "219/219 [==============================] - 3s 14ms/step - loss: 1.3933 - acc: 0.6698 - val_loss: 1.3301 - val_acc: 0.6690\n",
            "Epoch 4/100\n",
            "219/219 [==============================] - 3s 14ms/step - loss: 1.2951 - acc: 0.6698 - val_loss: 1.2635 - val_acc: 0.6690\n",
            "Epoch 5/100\n",
            "219/219 [==============================] - 3s 14ms/step - loss: 1.2329 - acc: 0.6696 - val_loss: 1.1839 - val_acc: 0.6810\n",
            "Epoch 6/100\n",
            "219/219 [==============================] - 3s 14ms/step - loss: 1.1760 - acc: 0.6759 - val_loss: 1.1721 - val_acc: 0.6780\n",
            "Epoch 7/100\n",
            "219/219 [==============================] - 3s 14ms/step - loss: 1.1351 - acc: 0.6778 - val_loss: 1.0983 - val_acc: 0.6790\n",
            "Epoch 8/100\n",
            "219/219 [==============================] - 3s 14ms/step - loss: 1.1039 - acc: 0.6833 - val_loss: 1.0768 - val_acc: 0.6710\n",
            "Epoch 9/100\n",
            "219/219 [==============================] - 3s 14ms/step - loss: 1.0843 - acc: 0.6877 - val_loss: 1.0601 - val_acc: 0.6760\n",
            "Epoch 10/100\n",
            "219/219 [==============================] - 3s 14ms/step - loss: 1.0675 - acc: 0.6857 - val_loss: 1.0328 - val_acc: 0.6889\n",
            "Epoch 11/100\n",
            "219/219 [==============================] - 3s 14ms/step - loss: 1.0568 - acc: 0.6857 - val_loss: 1.0447 - val_acc: 0.6800\n",
            "Epoch 12/100\n",
            "219/219 [==============================] - 3s 14ms/step - loss: 1.0403 - acc: 0.6875 - val_loss: 1.0089 - val_acc: 0.6869\n",
            "Epoch 13/100\n",
            "219/219 [==============================] - 3s 14ms/step - loss: 1.0306 - acc: 0.6882 - val_loss: 0.9996 - val_acc: 0.6859\n",
            "Epoch 14/100\n",
            "219/219 [==============================] - 3s 14ms/step - loss: 1.0130 - acc: 0.6875 - val_loss: 1.0376 - val_acc: 0.6720\n",
            "Epoch 15/100\n",
            "219/219 [==============================] - 3s 14ms/step - loss: 1.0098 - acc: 0.6887 - val_loss: 1.0035 - val_acc: 0.6869\n",
            "Epoch 16/100\n",
            "219/219 [==============================] - 3s 14ms/step - loss: 0.9962 - acc: 0.6920 - val_loss: 0.9795 - val_acc: 0.6859\n",
            "Epoch 17/100\n",
            "219/219 [==============================] - 3s 14ms/step - loss: 0.9921 - acc: 0.6890 - val_loss: 0.9618 - val_acc: 0.6869\n",
            "Epoch 18/100\n",
            "219/219 [==============================] - 3s 15ms/step - loss: 0.9767 - acc: 0.6897 - val_loss: 0.9450 - val_acc: 0.6869\n",
            "Epoch 19/100\n",
            "219/219 [==============================] - 3s 14ms/step - loss: 0.9736 - acc: 0.6856 - val_loss: 0.9499 - val_acc: 0.6810\n",
            "Epoch 20/100\n",
            "219/219 [==============================] - 3s 14ms/step - loss: 0.9653 - acc: 0.6889 - val_loss: 0.9441 - val_acc: 0.6899\n",
            "Epoch 21/100\n",
            "219/219 [==============================] - 3s 14ms/step - loss: 0.9489 - acc: 0.6906 - val_loss: 0.9290 - val_acc: 0.6800\n",
            "Epoch 22/100\n",
            "219/219 [==============================] - 3s 15ms/step - loss: 0.9500 - acc: 0.6920 - val_loss: 0.9074 - val_acc: 0.6859\n",
            "Epoch 23/100\n",
            "219/219 [==============================] - 3s 15ms/step - loss: 0.9347 - acc: 0.6930 - val_loss: 0.9290 - val_acc: 0.6899\n",
            "Epoch 24/100\n",
            "219/219 [==============================] - 3s 14ms/step - loss: 0.9179 - acc: 0.6926 - val_loss: 0.9042 - val_acc: 0.6959\n",
            "Epoch 25/100\n",
            "219/219 [==============================] - 3s 14ms/step - loss: 0.9236 - acc: 0.6936 - val_loss: 0.8961 - val_acc: 0.6929\n",
            "Epoch 26/100\n",
            "219/219 [==============================] - 3s 14ms/step - loss: 0.9096 - acc: 0.6997 - val_loss: 0.8756 - val_acc: 0.7099\n",
            "Epoch 27/100\n",
            "219/219 [==============================] - 3s 14ms/step - loss: 0.8982 - acc: 0.6997 - val_loss: 0.8671 - val_acc: 0.7059\n",
            "Epoch 28/100\n",
            "219/219 [==============================] - 3s 14ms/step - loss: 0.8959 - acc: 0.7004 - val_loss: 0.8881 - val_acc: 0.7029\n",
            "Epoch 29/100\n",
            "219/219 [==============================] - 3s 14ms/step - loss: 0.8910 - acc: 0.7023 - val_loss: 0.8624 - val_acc: 0.6999\n",
            "Epoch 30/100\n",
            "219/219 [==============================] - 3s 14ms/step - loss: 0.8870 - acc: 0.7042 - val_loss: 0.8824 - val_acc: 0.6969\n",
            "Epoch 31/100\n",
            "219/219 [==============================] - 3s 14ms/step - loss: 0.8845 - acc: 0.7083 - val_loss: 0.8866 - val_acc: 0.7059\n",
            "Epoch 32/100\n",
            "219/219 [==============================] - 3s 14ms/step - loss: 0.8768 - acc: 0.7063 - val_loss: 0.8538 - val_acc: 0.7029\n",
            "Epoch 33/100\n",
            "219/219 [==============================] - 3s 14ms/step - loss: 0.8717 - acc: 0.7097 - val_loss: 0.8685 - val_acc: 0.6929\n",
            "Epoch 34/100\n",
            "219/219 [==============================] - 3s 14ms/step - loss: 0.8684 - acc: 0.7116 - val_loss: 0.8540 - val_acc: 0.7019\n",
            "Epoch 35/100\n",
            "219/219 [==============================] - 3s 14ms/step - loss: 0.8678 - acc: 0.7077 - val_loss: 0.8457 - val_acc: 0.7019\n",
            "Epoch 36/100\n",
            "219/219 [==============================] - 3s 14ms/step - loss: 0.8600 - acc: 0.7116 - val_loss: 0.8477 - val_acc: 0.7069\n",
            "Epoch 37/100\n",
            "219/219 [==============================] - 3s 14ms/step - loss: 0.8657 - acc: 0.7089 - val_loss: 0.8304 - val_acc: 0.7089\n",
            "Epoch 38/100\n",
            "219/219 [==============================] - 3s 14ms/step - loss: 0.8551 - acc: 0.7123 - val_loss: 0.8459 - val_acc: 0.7129\n",
            "Epoch 39/100\n",
            "219/219 [==============================] - 3s 14ms/step - loss: 0.8573 - acc: 0.7136 - val_loss: 0.8373 - val_acc: 0.7178\n",
            "Epoch 40/100\n",
            "219/219 [==============================] - 3s 14ms/step - loss: 0.8521 - acc: 0.7086 - val_loss: 0.8337 - val_acc: 0.7099\n",
            "Epoch 41/100\n",
            "219/219 [==============================] - 3s 14ms/step - loss: 0.8482 - acc: 0.7094 - val_loss: 0.8486 - val_acc: 0.7178\n",
            "Epoch 42/100\n",
            "219/219 [==============================] - 3s 14ms/step - loss: 0.8528 - acc: 0.7153 - val_loss: 0.8324 - val_acc: 0.7159\n",
            "Epoch 43/100\n",
            "219/219 [==============================] - 3s 14ms/step - loss: 0.8427 - acc: 0.7187 - val_loss: 0.8141 - val_acc: 0.7139\n",
            "Epoch 44/100\n",
            "219/219 [==============================] - 3s 14ms/step - loss: 0.8419 - acc: 0.7181 - val_loss: 0.8142 - val_acc: 0.7178\n",
            "Epoch 45/100\n",
            "219/219 [==============================] - 3s 14ms/step - loss: 0.8413 - acc: 0.7129 - val_loss: 0.8226 - val_acc: 0.7159\n",
            "Epoch 46/100\n",
            "219/219 [==============================] - 3s 14ms/step - loss: 0.8420 - acc: 0.7141 - val_loss: 0.8317 - val_acc: 0.7149\n",
            "Epoch 47/100\n",
            "219/219 [==============================] - 3s 14ms/step - loss: 0.8389 - acc: 0.7156 - val_loss: 0.8164 - val_acc: 0.7208\n",
            "Epoch 48/100\n",
            "219/219 [==============================] - 3s 14ms/step - loss: 0.8367 - acc: 0.7177 - val_loss: 0.8184 - val_acc: 0.7278\n",
            "Epoch 49/100\n",
            "219/219 [==============================] - 3s 14ms/step - loss: 0.8341 - acc: 0.7169 - val_loss: 0.8261 - val_acc: 0.7228\n",
            "Epoch 50/100\n",
            "219/219 [==============================] - 3s 14ms/step - loss: 0.8360 - acc: 0.7183 - val_loss: 0.8393 - val_acc: 0.7178\n",
            "Epoch 51/100\n",
            "219/219 [==============================] - 3s 14ms/step - loss: 0.8261 - acc: 0.7169 - val_loss: 0.8426 - val_acc: 0.7159\n",
            "Epoch 52/100\n",
            "219/219 [==============================] - 3s 14ms/step - loss: 0.8284 - acc: 0.7214 - val_loss: 0.8310 - val_acc: 0.7009\n",
            "Epoch 53/100\n",
            "219/219 [==============================] - 3s 15ms/step - loss: 0.8216 - acc: 0.7191 - val_loss: 0.8170 - val_acc: 0.7178\n",
            "Epoch 54/100\n",
            "219/219 [==============================] - 3s 14ms/step - loss: 0.8233 - acc: 0.7243 - val_loss: 0.8193 - val_acc: 0.7198\n",
            "Epoch 55/100\n",
            "219/219 [==============================] - 3s 14ms/step - loss: 0.8219 - acc: 0.7204 - val_loss: 0.8021 - val_acc: 0.7278\n",
            "Epoch 56/100\n",
            "219/219 [==============================] - 3s 14ms/step - loss: 0.8214 - acc: 0.7218 - val_loss: 0.7991 - val_acc: 0.7208\n",
            "Epoch 57/100\n",
            "219/219 [==============================] - 3s 14ms/step - loss: 0.8139 - acc: 0.7234 - val_loss: 0.8379 - val_acc: 0.7109\n",
            "Epoch 58/100\n",
            "219/219 [==============================] - 3s 14ms/step - loss: 0.8161 - acc: 0.7277 - val_loss: 0.8378 - val_acc: 0.7139\n",
            "Epoch 59/100\n",
            "219/219 [==============================] - 3s 14ms/step - loss: 0.8139 - acc: 0.7254 - val_loss: 0.8177 - val_acc: 0.7149\n",
            "Epoch 60/100\n",
            "219/219 [==============================] - 3s 14ms/step - loss: 0.8195 - acc: 0.7263 - val_loss: 0.7923 - val_acc: 0.7288\n",
            "Epoch 61/100\n",
            "219/219 [==============================] - 3s 14ms/step - loss: 0.8082 - acc: 0.7277 - val_loss: 0.8117 - val_acc: 0.7318\n",
            "Epoch 62/100\n",
            "219/219 [==============================] - 3s 14ms/step - loss: 0.8138 - acc: 0.7284 - val_loss: 0.8367 - val_acc: 0.7188\n",
            "Epoch 63/100\n",
            "219/219 [==============================] - 3s 14ms/step - loss: 0.8077 - acc: 0.7290 - val_loss: 0.7824 - val_acc: 0.7338\n",
            "Epoch 64/100\n",
            "219/219 [==============================] - 3s 14ms/step - loss: 0.7985 - acc: 0.7294 - val_loss: 0.8399 - val_acc: 0.7159\n",
            "Epoch 65/100\n",
            "219/219 [==============================] - 3s 15ms/step - loss: 0.8113 - acc: 0.7256 - val_loss: 0.8138 - val_acc: 0.7188\n",
            "Epoch 66/100\n",
            "219/219 [==============================] - 3s 14ms/step - loss: 0.7975 - acc: 0.7316 - val_loss: 0.7907 - val_acc: 0.7338\n",
            "Epoch 67/100\n",
            "219/219 [==============================] - 3s 14ms/step - loss: 0.7960 - acc: 0.7294 - val_loss: 0.8012 - val_acc: 0.7248\n",
            "Epoch 68/100\n",
            "219/219 [==============================] - 3s 14ms/step - loss: 0.7925 - acc: 0.7341 - val_loss: 0.7895 - val_acc: 0.7398\n",
            "Epoch 69/100\n",
            "219/219 [==============================] - 3s 14ms/step - loss: 0.8053 - acc: 0.7260 - val_loss: 0.8102 - val_acc: 0.7188\n",
            "Epoch 70/100\n",
            "219/219 [==============================] - 3s 14ms/step - loss: 0.7899 - acc: 0.7347 - val_loss: 0.7909 - val_acc: 0.7258\n",
            "Epoch 71/100\n",
            "219/219 [==============================] - 3s 15ms/step - loss: 0.7843 - acc: 0.7367 - val_loss: 0.7749 - val_acc: 0.7348\n",
            "Epoch 72/100\n",
            "219/219 [==============================] - 3s 14ms/step - loss: 0.7897 - acc: 0.7368 - val_loss: 0.7971 - val_acc: 0.7218\n",
            "Epoch 73/100\n",
            "219/219 [==============================] - 3s 14ms/step - loss: 0.7840 - acc: 0.7398 - val_loss: 0.7648 - val_acc: 0.7458\n",
            "Epoch 74/100\n",
            "219/219 [==============================] - 3s 14ms/step - loss: 0.7853 - acc: 0.7341 - val_loss: 0.7849 - val_acc: 0.7398\n",
            "Epoch 75/100\n",
            "219/219 [==============================] - 3s 15ms/step - loss: 0.7847 - acc: 0.7371 - val_loss: 0.7853 - val_acc: 0.7408\n",
            "Epoch 76/100\n",
            "219/219 [==============================] - 3s 14ms/step - loss: 0.7812 - acc: 0.7391 - val_loss: 0.7738 - val_acc: 0.7258\n",
            "Epoch 77/100\n",
            "219/219 [==============================] - 3s 14ms/step - loss: 0.7777 - acc: 0.7404 - val_loss: 0.7845 - val_acc: 0.7388\n",
            "Epoch 78/100\n",
            "219/219 [==============================] - 3s 14ms/step - loss: 0.7839 - acc: 0.7367 - val_loss: 0.8115 - val_acc: 0.7168\n",
            "Epoch 79/100\n",
            "219/219 [==============================] - 3s 14ms/step - loss: 0.7778 - acc: 0.7397 - val_loss: 0.7755 - val_acc: 0.7378\n",
            "Epoch 80/100\n",
            "219/219 [==============================] - 3s 14ms/step - loss: 0.7760 - acc: 0.7351 - val_loss: 0.7796 - val_acc: 0.7358\n",
            "Epoch 81/100\n",
            "219/219 [==============================] - 3s 14ms/step - loss: 0.7687 - acc: 0.7433 - val_loss: 0.7751 - val_acc: 0.7358\n",
            "Epoch 82/100\n",
            "219/219 [==============================] - 3s 14ms/step - loss: 0.7649 - acc: 0.7398 - val_loss: 0.7646 - val_acc: 0.7517\n",
            "Epoch 83/100\n",
            "219/219 [==============================] - 3s 14ms/step - loss: 0.7727 - acc: 0.7398 - val_loss: 0.8441 - val_acc: 0.7198\n",
            "Epoch 84/100\n",
            "219/219 [==============================] - 3s 14ms/step - loss: 0.7664 - acc: 0.7428 - val_loss: 0.7654 - val_acc: 0.7478\n",
            "Epoch 85/100\n",
            "219/219 [==============================] - 3s 14ms/step - loss: 0.7608 - acc: 0.7455 - val_loss: 0.7683 - val_acc: 0.7607\n",
            "Epoch 86/100\n",
            "219/219 [==============================] - 3s 14ms/step - loss: 0.7692 - acc: 0.7443 - val_loss: 0.7894 - val_acc: 0.7298\n",
            "Epoch 87/100\n",
            "219/219 [==============================] - 3s 14ms/step - loss: 0.7623 - acc: 0.7477 - val_loss: 0.7667 - val_acc: 0.7428\n",
            "Epoch 88/100\n",
            "219/219 [==============================] - 3s 14ms/step - loss: 0.7632 - acc: 0.7457 - val_loss: 0.8105 - val_acc: 0.7258\n",
            "Epoch 89/100\n",
            "219/219 [==============================] - 3s 14ms/step - loss: 0.7629 - acc: 0.7458 - val_loss: 0.7747 - val_acc: 0.7478\n",
            "Epoch 90/100\n",
            "219/219 [==============================] - 3s 14ms/step - loss: 0.7528 - acc: 0.7481 - val_loss: 0.7654 - val_acc: 0.7408\n",
            "Epoch 91/100\n",
            "219/219 [==============================] - 3s 14ms/step - loss: 0.7644 - acc: 0.7451 - val_loss: 0.7834 - val_acc: 0.7358\n",
            "Epoch 92/100\n",
            "219/219 [==============================] - 3s 15ms/step - loss: 0.7535 - acc: 0.7483 - val_loss: 0.7854 - val_acc: 0.7468\n",
            "Epoch 93/100\n",
            "219/219 [==============================] - 3s 14ms/step - loss: 0.7559 - acc: 0.7498 - val_loss: 0.7989 - val_acc: 0.7159\n",
            "Epoch 94/100\n",
            "219/219 [==============================] - 3s 14ms/step - loss: 0.7500 - acc: 0.7530 - val_loss: 0.7723 - val_acc: 0.7577\n",
            "Epoch 95/100\n",
            "219/219 [==============================] - 3s 14ms/step - loss: 0.7554 - acc: 0.7471 - val_loss: 0.7592 - val_acc: 0.7498\n",
            "Epoch 96/100\n",
            "219/219 [==============================] - 3s 14ms/step - loss: 0.7492 - acc: 0.7473 - val_loss: 0.7626 - val_acc: 0.7557\n",
            "Epoch 97/100\n",
            "219/219 [==============================] - 3s 14ms/step - loss: 0.7511 - acc: 0.7520 - val_loss: 0.7855 - val_acc: 0.7428\n",
            "Epoch 98/100\n",
            "219/219 [==============================] - 3s 14ms/step - loss: 0.7521 - acc: 0.7468 - val_loss: 0.7573 - val_acc: 0.7458\n",
            "Epoch 99/100\n",
            "219/219 [==============================] - 3s 14ms/step - loss: 0.7463 - acc: 0.7517 - val_loss: 0.7537 - val_acc: 0.7488\n",
            "Epoch 100/100\n",
            "219/219 [==============================] - 3s 14ms/step - loss: 0.7429 - acc: 0.7511 - val_loss: 0.7769 - val_acc: 0.7398\n"
          ],
          "name": "stdout"
        }
      ]
    },
    {
      "cell_type": "code",
      "metadata": {
        "id": "JSW1e8ZmQZRn"
      },
      "source": [
        "#this is for DataGenerator\n",
        " \n",
        "history = model.fit_generator(train_gen, steps_per_epoch=218, epochs=100,validation_data=val_gen, validation_steps=31)"
      ],
      "execution_count": null,
      "outputs": []
    },
    {
      "cell_type": "code",
      "metadata": {
        "id": "lxZfAIC_rviU"
      },
      "source": [
        "#this is for weight setting\n",
        "history = model.fit(X_train, Y_train , batch_size=32, epochs=100, class_weight=class_weight ,\n",
        "                    validation_data=(X_val, Y_val))"
      ],
      "execution_count": null,
      "outputs": []
    },
    {
      "cell_type": "markdown",
      "metadata": {
        "id": "JZNR0Z0Xovwh"
      },
      "source": [
        "## Learning curve"
      ]
    },
    {
      "cell_type": "code",
      "metadata": {
        "colab": {
          "base_uri": "https://localhost:8080/",
          "height": 270
        },
        "id": "CEXCEAWRfgLl",
        "outputId": "b2ca9d4e-398f-4292-8476-ec16faf2978f"
      },
      "source": [
        "import matplotlib.pyplot as plt\n",
        "plt.plot(history.history['acc'], 'b-' , label = 'train' )\n",
        "plt.plot(history.history['val_acc'], 'r-' , label = 'validation' )\n",
        "plt.title(\"acc Learning curve\", loc = 'left')\n",
        "plt.xlabel(\"epoch\")\n",
        "plt.ylabel(\"acc\")\n",
        "plt.legend()"
      ],
      "execution_count": null,
      "outputs": [
        {
          "output_type": "execute_result",
          "data": {
            "text/plain": [
              "<matplotlib.legend.Legend at 0x7f509030fb50>"
            ]
          },
          "metadata": {
            "tags": []
          },
          "execution_count": 10
        },
        {
          "output_type": "display_data",
          "data": {
            "image/png": "[encoded data removed]",
            "text/plain": [
              "<Figure size 432x288 with 1 Axes>"
            ]
          },
          "metadata": {
            "tags": [],
            "needs_background": "light"
          }
        }
      ]
    },
    {
      "cell_type": "code",
      "metadata": {
        "colab": {
          "base_uri": "https://localhost:8080/",
          "height": 273
        },
        "id": "vV4Fmg5NfjrJ",
        "outputId": "d77fe5d8-928b-4465-b933-e6a2060ec273"
      },
      "source": [
        "plt.plot(history.history['loss'], 'b-', label = 'train')\n",
        "plt.plot(history.history['val_loss'], 'r-' , label = 'validation')\n",
        "plt.title(\"loss Learning curve\", loc = 'left')\n",
        "plt.xlabel(\"epoch\")\n",
        "plt.ylabel(\"loss\")\n",
        "plt.legend()"
      ],
      "execution_count": null,
      "outputs": [
        {
          "output_type": "execute_result",
          "data": {
            "text/plain": [
              "<matplotlib.legend.Legend at 0x7f504c23b950>"
            ]
          },
          "metadata": {
            "tags": []
          },
          "execution_count": 11
        },
        {
          "output_type": "display_data",
          "data": {
            "image/png": "[encoded data removed]",
            "text/plain": [
              "<Figure size 432x288 with 1 Axes>"
            ]
          },
          "metadata": {
            "tags": [],
            "needs_background": "light"
          }
        }
      ]
    },
    {
      "cell_type": "markdown",
      "metadata": {
        "id": "csqkiXKeo362"
      },
      "source": [
        "## Testing on Test data :"
      ]
    },
    {
      "cell_type": "code",
      "metadata": {
        "colab": {
          "base_uri": "https://localhost:8080/"
        },
        "id": "gJJudh4aEUju",
        "outputId": "df1a1351-d7a8-4b46-b889-3f6e98155952"
      },
      "source": [
        "loss, acc = model.evaluate(X_test, Y_test)\n",
        "print('Test loss:', loss)\n",
        "print('Test acc:', acc)"
      ],
      "execution_count": null,
      "outputs": [
        {
          "output_type": "stream",
          "text": [
            "63/63 [==============================] - 1s 9ms/step - loss: 0.7825 - acc: 0.7352\n",
            "Test loss: 0.7824896574020386\n",
            "Test acc: 0.735162079334259\n"
          ],
          "name": "stdout"
        }
      ]
    },
    {
      "cell_type": "markdown",
      "metadata": {
        "id": "5fz6ux-jo_H0"
      },
      "source": [
        "## classification_report and confusion_matrix"
      ]
    },
    {
      "cell_type": "code",
      "metadata": {
        "colab": {
          "base_uri": "https://localhost:8080/"
        },
        "id": "So--YT0JFBaQ",
        "outputId": "f587ee09-5a0a-46f7-fc22-1ce4f1bfa3f6"
      },
      "source": [
        "from sklearn.metrics import classification_report\n",
        " \n",
        "y_pred = model.predict_classes(X_test)\n",
        "y_test = np.argmax(Y_test, axis=1) # Convert one-hot to index\n",
        "print(y_test)\n",
        "print(classification_report(y_test, y_pred))"
      ],
      "execution_count": null,
      "outputs": [
        {
          "output_type": "stream",
          "text": [
            "/usr/local/lib/python3.7/dist-packages/tensorflow/python/keras/engine/sequential.py:455: UserWarning: `model.predict_classes()` is deprecated and will be removed after 2021-01-01. Please use instead:* `np.argmax(model.predict(x), axis=-1)`,   if your model does multi-class classification   (e.g. if it uses a `softmax` last-layer activation).* `(model.predict(x) > 0.5).astype(\"int32\")`,   if your model does binary classification   (e.g. if it uses a `sigmoid` last-layer activation).\n",
            "  warnings.warn('`model.predict_classes()` is deprecated and '\n"
          ],
          "name": "stderr"
        },
        {
          "output_type": "stream",
          "text": [
            "[5 3 4 ... 5 5 5]\n",
            "              precision    recall  f1-score   support\n",
            "\n",
            "           0       0.33      0.23      0.27        66\n",
            "           1       0.38      0.53      0.45       103\n",
            "           2       0.51      0.45      0.48       220\n",
            "           3       0.00      0.00      0.00        23\n",
            "           4       0.50      0.09      0.15       223\n",
            "           5       0.82      0.95      0.88      1341\n",
            "           6       0.50      0.59      0.54        29\n",
            "\n",
            "    accuracy                           0.74      2005\n",
            "   macro avg       0.43      0.40      0.39      2005\n",
            "weighted avg       0.70      0.74      0.70      2005\n",
            "\n"
          ],
          "name": "stdout"
        },
        {
          "output_type": "stream",
          "text": [
            "/usr/local/lib/python3.7/dist-packages/sklearn/metrics/_classification.py:1272: UndefinedMetricWarning: Precision and F-score are ill-defined and being set to 0.0 in labels with no predicted samples. Use `zero_division` parameter to control this behavior.\n",
            "  _warn_prf(average, modifier, msg_start, len(result))\n"
          ],
          "name": "stderr"
        }
      ]
    },
    {
      "cell_type": "code",
      "metadata": {
        "colab": {
          "base_uri": "https://localhost:8080/",
          "height": 315
        },
        "id": "VG_-XKNxFLU7",
        "outputId": "a60c943b-beca-4339-bc3d-b40dac9aefdf"
      },
      "source": [
        "from sklearn.metrics import confusion_matrix\n",
        "import seaborn as sns; sns.set()\n",
        " \n",
        "labels = ['0', '1', '2', '3', '4', '5', '6']\n",
        "cm = confusion_matrix(y_test, y_pred)\n",
        "plt.figure(figsize=(6 , 6))\n",
        "sns.heatmap(cm, cbar=False, xticklabels=labels, yticklabels=labels, fmt='d', annot=True, cmap=plt.cm.Blues)\n",
        "plt.xlabel('Predicted')\n",
        "plt.ylabel('Actual')\n",
        "plt.show()"
      ],
      "execution_count": null,
      "outputs": [
        {
          "output_type": "display_data",
          "data": {
            "image/png": "[encoded data removed]",
            "text/plain": [
              "<Figure size 432x432 with 1 Axes>"
            ]
          },
          "metadata": {
            "tags": []
          }
        }
      ]
    }
  ]
}