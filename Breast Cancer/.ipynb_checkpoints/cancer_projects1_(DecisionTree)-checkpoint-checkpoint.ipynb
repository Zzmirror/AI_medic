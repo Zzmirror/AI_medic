{
 "cells": [
  {
   "cell_type": "code",
   "execution_count": 2,
   "id": "ca1616f8",
   "metadata": {},
   "outputs": [],
   "source": [
    "import numpy as np\n",
    "import pandas as pd\n",
    "import matplotlib.pyplot as plt\n",
    "from sklearn.tree import DecisionTreeClassifier\n",
    "from sklearn.model_selection import train_test_split, KFold"
   ]
  },
  {
   "cell_type": "code",
   "execution_count": 4,
   "id": "b2a1f8aa",
   "metadata": {},
   "outputs": [],
   "source": [
    "data= pd.read_csv('..\\..\\Documents\\dataR2.csv')\n",
    "x=data.to_numpy()"
   ]
  },
  {
   "cell_type": "markdown",
   "id": "3d91acbf",
   "metadata": {},
   "source": [
    "# shuffle data  and spliting x & y  & z_score regularization: \n"
   ]
  },
  {
   "cell_type": "code",
   "execution_count": 5,
   "id": "cb3e22d6",
   "metadata": {},
   "outputs": [],
   "source": [
    "np.random.seed = 0\n",
    "x = x[np.random.permutation(x.shape[0])]\n",
    "\n",
    "\n",
    "y=x[: , -1]\n",
    "x=x[: , :-1]\n",
    "x= (x-x.mean(axis=0)) / x.std(axis=0)\n"
   ]
  },
  {
   "cell_type": "markdown",
   "id": "9f4c5150",
   "metadata": {},
   "source": [
    "# simple splitting :"
   ]
  },
  {
   "cell_type": "code",
   "execution_count": 6,
   "id": "80f98d36",
   "metadata": {},
   "outputs": [
    {
     "name": "stdout",
     "output_type": "stream",
     "text": [
      "train_score : 0.9456521739130435\n",
      "test_score : 0.625\n"
     ]
    }
   ],
   "source": [
    "split=int(0.8 * x.shape[0])\n",
    "\n",
    "x_train=x[:split]\n",
    "y_train=y[:split]\n",
    "\n",
    "x_test=x[split:]\n",
    "y_test=y[split:]\n",
    "\n",
    "clf=DecisionTreeClassifier(max_depth = 4)\n",
    "clf.fit(x_train , y_train )\n",
    "\n",
    "\n",
    "print(\"train_score :\" , clf.score(x_train ,y_train ))\n",
    "print(\"test_score :\" , clf.score(x_test ,y_test ))\n"
   ]
  },
  {
   "cell_type": "markdown",
   "id": "df220221",
   "metadata": {},
   "source": [
    "# kfold splitting :\n"
   ]
  },
  {
   "cell_type": "code",
   "execution_count": 5,
   "id": "35e4c5e2",
   "metadata": {},
   "outputs": [
    {
     "name": "stdout",
     "output_type": "stream",
     "text": [
      "train_score :  0.9525712949976626\n",
      "test_score : 0.7\n",
      "------------------\n"
     ]
    }
   ],
   "source": [
    "train_score=0\n",
    "test_score = 0\n",
    "\n",
    "kfold=KFold(n_splits=5)\n",
    "\n",
    "for train_fold , test_fold in kfold.split(x , y) :\n",
    "    train_x=x[train_fold]\n",
    "    train_y=y[train_fold]\n",
    "    \n",
    "    test_x=x[test_fold]\n",
    "    test_y=y[test_fold]\n",
    "    \n",
    "    clf3=DecisionTreeClassifier(max_depth = 5)\n",
    "    clf3.fit(train_x , train_y)\n",
    "    \n",
    "    train_score += clf3.score(train_x , train_y)\n",
    "    test_score += clf3.score(test_x , test_y)\n",
    "    \n",
    "\n",
    "print(\"train_score : \" , train_score / 5)\n",
    "print(\"test_score :\" ,test_score / 5)\n",
    "print('------------------')    \n"
   ]
  },
  {
   "cell_type": "code",
   "execution_count": 6,
   "id": "da9d153b",
   "metadata": {},
   "outputs": [
    {
     "name": "stdout",
     "output_type": "stream",
     "text": [
      "|--- Glucose <= -0.28\n",
      "|   |--- Resistin <= -0.12\n",
      "|   |   |--- Resistin <= -0.93\n",
      "|   |   |   |--- class: 2.0\n",
      "|   |   |--- Resistin >  -0.93\n",
      "|   |   |   |--- class: 1.0\n",
      "|   |--- Resistin >  -0.12\n",
      "|   |   |--- BMI <= 0.77\n",
      "|   |   |   |--- class: 2.0\n",
      "|   |   |--- BMI >  0.77\n",
      "|   |   |   |--- class: 1.0\n",
      "|--- Glucose >  -0.28\n",
      "|   |--- Leptin <= -1.01\n",
      "|   |   |--- class: 1.0\n",
      "|   |--- Leptin >  -1.01\n",
      "|   |   |--- BMI <= 0.98\n",
      "|   |   |   |--- MCP <= -1.35\n",
      "|   |   |   |   |--- class: 1.0\n",
      "|   |   |   |--- MCP >  -1.35\n",
      "|   |   |   |   |--- Adiponectin <= -0.92\n",
      "|   |   |   |   |   |--- class: 1.0\n",
      "|   |   |   |   |--- Adiponectin >  -0.92\n",
      "|   |   |   |   |   |--- class: 2.0\n",
      "|   |   |--- BMI >  0.98\n",
      "|   |   |   |--- Resistin <= -0.37\n",
      "|   |   |   |   |--- BMI <= 1.42\n",
      "|   |   |   |   |   |--- class: 1.0\n",
      "|   |   |   |   |--- BMI >  1.42\n",
      "|   |   |   |   |   |--- class: 2.0\n",
      "|   |   |   |--- Resistin >  -0.37\n",
      "|   |   |   |   |--- class: 1.0\n",
      "\n"
     ]
    }
   ],
   "source": [
    "from sklearn.tree import export_text\n",
    "print(export_text(clf, feature_names=['Age'  , 'BMI' , 'Glucose', 'Insulin','HOMA',\n",
    "                                      'Leptin', 'Adiponectin', 'Resistin', 'MCP']))\n"
   ]
  },
  {
   "cell_type": "code",
   "execution_count": null,
   "id": "2d13940c",
   "metadata": {},
   "outputs": [],
   "source": [
    "from sklearn.tree import export_text\n",
    "print(export_text(clf2, feature_names=['Age'  , 'BMI' , 'Glucose', 'Insulin','HOMA',\n",
    "                                      'Leptin', 'Adiponectin', 'Resistin', 'MCP']))"
   ]
  },
  {
   "cell_type": "code",
   "execution_count": null,
   "id": "de3cd308",
   "metadata": {},
   "outputs": [],
   "source": []
  }
 ],
 "metadata": {
  "kernelspec": {
   "display_name": "Python 3 (ipykernel)",
   "language": "python",
   "name": "python3"
  },
  "language_info": {
   "codemirror_mode": {
    "name": "ipython",
    "version": 3
   },
   "file_extension": ".py",
   "mimetype": "text/x-python",
   "name": "python",
   "nbconvert_exporter": "python",
   "pygments_lexer": "ipython3",
   "version": "3.9.6"
  }
 },
 "nbformat": 4,
 "nbformat_minor": 5
}
