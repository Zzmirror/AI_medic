{
 "cells": [
  {
   "cell_type": "code",
   "execution_count": 1,
   "id": "22254810",
   "metadata": {},
   "outputs": [],
   "source": [
    "import numpy as np\n",
    "import matplotlib as plt\n",
    "import pandas as pd\n",
    "from sklearn.linear_model import LogisticRegression, Lasso, Ridge\n",
    "from sklearn.model_selection import train_test_split, KFold"
   ]
  },
  {
   "cell_type": "code",
   "execution_count": 2,
   "id": "8b23c61a",
   "metadata": {},
   "outputs": [],
   "source": [
    "data = pd.read_csv('..\\..\\Documents\\dataR2.csv')\n",
    "x=data.to_numpy()\n"
   ]
  },
  {
   "cell_type": "markdown",
   "id": "c1f732b0",
   "metadata": {},
   "source": [
    "# shuffle data:"
   ]
  },
  {
   "cell_type": "code",
   "execution_count": 3,
   "id": "02ea6772",
   "metadata": {},
   "outputs": [],
   "source": [
    "np.random.seed=0\n",
    "x=x[np.random.permutation(x.shape[0])]\n"
   ]
  },
  {
   "cell_type": "markdown",
   "id": "237abada",
   "metadata": {},
   "source": [
    "# split x & y :"
   ]
  },
  {
   "cell_type": "code",
   "execution_count": 4,
   "id": "48bc0359",
   "metadata": {},
   "outputs": [],
   "source": [
    "y=x[: , -1]\n",
    "x=x[: , :-1]\n"
   ]
  },
  {
   "cell_type": "markdown",
   "id": "3e0b5460",
   "metadata": {},
   "source": [
    "# simple test and train spliting with normalising test with train.mean"
   ]
  },
  {
   "cell_type": "code",
   "execution_count": 6,
   "id": "0914c599",
   "metadata": {},
   "outputs": [
    {
     "name": "stdout",
     "output_type": "stream",
     "text": [
      "train_score : 0.8260869565217391\n",
      "test_score : 0.625\n"
     ]
    },
    {
     "data": {
      "text/plain": [
       "array([[-0.42464317, -0.67657919,  1.83607805,  0.40883784,  0.39821187,\n",
       "        -0.21283114, -0.21536536,  0.68823678, -0.07332594]])"
      ]
     },
     "execution_count": 6,
     "metadata": {},
     "output_type": "execute_result"
    }
   ],
   "source": [
    "split=int(0.8 * x.shape[0])\n",
    "train_x = x[:split]\n",
    "trian_y = y[:split]\n",
    "train_x = (train_x-train_x.mean(axis=0))/train_x.std(axis=0)\n",
    "\n",
    "test_x = x[split:]\n",
    "test_x = (test_x-train_x.mean(axis=0))/train_x.std(axis=0)\n",
    "test_y = y[split:]\n",
    "\n",
    "clf1=LogisticRegression()\n",
    "clf1.fit( train_x , trian_y )\n",
    "\n",
    "print(\"train_score :\" , clf1.score(train_x , trian_y))\n",
    "print(\"test_score :\" , clf1.score(test_x , test_y))\n",
    "clf1.coef_\n",
    "\n",
    "# result is underfiting"
   ]
  },
  {
   "cell_type": "markdown",
   "id": "3443f6fa",
   "metadata": {},
   "source": [
    "# z_score normalization"
   ]
  },
  {
   "cell_type": "code",
   "execution_count": 7,
   "id": "61f4ac34",
   "metadata": {},
   "outputs": [],
   "source": [
    "x=(x-x.mean(axis=0))/x.std(axis=0)"
   ]
  },
  {
   "cell_type": "markdown",
   "id": "916f77ef",
   "metadata": {},
   "source": [
    "# sklearn StandardScaler"
   ]
  },
  {
   "cell_type": "code",
   "execution_count": null,
   "id": "991349a8",
   "metadata": {},
   "outputs": [],
   "source": [
    "# from sklearn.preprocessing import StandardScaler\n",
    "# sc = StandardScaler()\n",
    "# sc.fit(x)\n"
   ]
  },
  {
   "cell_type": "markdown",
   "id": "8bc25286",
   "metadata": {},
   "source": [
    "# kfold  speliting"
   ]
  },
  {
   "cell_type": "code",
   "execution_count": 8,
   "id": "24ec6230",
   "metadata": {},
   "outputs": [
    {
     "name": "stdout",
     "output_type": "stream",
     "text": [
      "train_score : \n",
      "0.7909537166900421\n",
      "val_score : \n",
      "0.7159420289855072\n"
     ]
    },
    {
     "data": {
      "text/plain": [
       "array([[-0.31124056, -0.60007013,  1.65180446,  0.33278037,  0.33851865,\n",
       "        -0.19940193, -0.0042452 ,  0.6317712 , -0.05518998]])"
      ]
     },
     "execution_count": 8,
     "metadata": {},
     "output_type": "execute_result"
    }
   ],
   "source": [
    "train_score = 0\n",
    "val_score =0 \n",
    "\n",
    "kfold = KFold(n_splits=5)\n",
    "\n",
    "for train_folds , val_folds in kfold.split(x , y) :\n",
    "    \n",
    "    x_train = x[train_folds]\n",
    "    y_train = y[train_folds]\n",
    "    \n",
    "\n",
    "    \n",
    "    x_val = x[val_folds]\n",
    "    y_val= y[val_folds]\n",
    "    \n",
    "#     x_train = sc.transform(x_train)\n",
    "#     x_val = sc.transform(x_val)\n",
    "\n",
    "    \n",
    "    clf=LogisticRegression()\n",
    "    clf.fit( x_train , y_train )\n",
    "    \n",
    "    train_score += clf.score(x_train, y_train)\n",
    "    \n",
    "    val_score += clf.score(x_val, y_val)\n",
    "\n",
    "    \n",
    "print(\"train_score : \")\n",
    "print(train_score / 5)\n",
    "\n",
    "print(\"val_score : \")\n",
    "print(val_score / 5)\n",
    "\n",
    "clf.coef_\n",
    "\n",
    "# result is better than simple spliting \n",
    "# but still the score is not good enough\n"
   ]
  },
  {
   "cell_type": "markdown",
   "id": "0905f320",
   "metadata": {},
   "source": [
    "# kfold and PolynomialFeatures\n"
   ]
  },
  {
   "cell_type": "code",
   "execution_count": 9,
   "id": "8c532205",
   "metadata": {},
   "outputs": [
    {
     "name": "stdout",
     "output_type": "stream",
     "text": [
      "C =  0.0001\n",
      "0.730551659654044\n",
      "0.5003623188405797\n",
      "------------------\n",
      "C =  0.001\n",
      "0.8684431977559607\n",
      "0.6818840579710145\n",
      "------------------\n",
      "C =  0.01\n",
      "0.9525479195885929\n",
      "0.7246376811594203\n",
      "------------------\n"
     ]
    },
    {
     "name": "stderr",
     "output_type": "stream",
     "text": [
      "c:\\users\\zahra\\appdata\\local\\programs\\python\\python39\\lib\\site-packages\\sklearn\\linear_model\\_logistic.py:763: ConvergenceWarning: lbfgs failed to converge (status=1):\n",
      "STOP: TOTAL NO. of ITERATIONS REACHED LIMIT.\n",
      "\n",
      "Increase the number of iterations (max_iter) or scale the data as shown in:\n",
      "    https://scikit-learn.org/stable/modules/preprocessing.html\n",
      "Please also refer to the documentation for alternative solver options:\n",
      "    https://scikit-learn.org/stable/modules/linear_model.html#logistic-regression\n",
      "  n_iter_i = _check_optimize_result(\n",
      "c:\\users\\zahra\\appdata\\local\\programs\\python\\python39\\lib\\site-packages\\sklearn\\linear_model\\_logistic.py:763: ConvergenceWarning: lbfgs failed to converge (status=1):\n",
      "STOP: TOTAL NO. of ITERATIONS REACHED LIMIT.\n",
      "\n",
      "Increase the number of iterations (max_iter) or scale the data as shown in:\n",
      "    https://scikit-learn.org/stable/modules/preprocessing.html\n",
      "Please also refer to the documentation for alternative solver options:\n",
      "    https://scikit-learn.org/stable/modules/linear_model.html#logistic-regression\n",
      "  n_iter_i = _check_optimize_result(\n",
      "c:\\users\\zahra\\appdata\\local\\programs\\python\\python39\\lib\\site-packages\\sklearn\\linear_model\\_logistic.py:763: ConvergenceWarning: lbfgs failed to converge (status=1):\n",
      "STOP: TOTAL NO. of ITERATIONS REACHED LIMIT.\n",
      "\n",
      "Increase the number of iterations (max_iter) or scale the data as shown in:\n",
      "    https://scikit-learn.org/stable/modules/preprocessing.html\n",
      "Please also refer to the documentation for alternative solver options:\n",
      "    https://scikit-learn.org/stable/modules/linear_model.html#logistic-regression\n",
      "  n_iter_i = _check_optimize_result(\n",
      "c:\\users\\zahra\\appdata\\local\\programs\\python\\python39\\lib\\site-packages\\sklearn\\linear_model\\_logistic.py:763: ConvergenceWarning: lbfgs failed to converge (status=1):\n",
      "STOP: TOTAL NO. of ITERATIONS REACHED LIMIT.\n",
      "\n",
      "Increase the number of iterations (max_iter) or scale the data as shown in:\n",
      "    https://scikit-learn.org/stable/modules/preprocessing.html\n",
      "Please also refer to the documentation for alternative solver options:\n",
      "    https://scikit-learn.org/stable/modules/linear_model.html#logistic-regression\n",
      "  n_iter_i = _check_optimize_result(\n"
     ]
    },
    {
     "name": "stdout",
     "output_type": "stream",
     "text": [
      "C =  0.1\n",
      "0.9762739597942964\n",
      "0.7420289855072463\n",
      "------------------\n"
     ]
    },
    {
     "name": "stderr",
     "output_type": "stream",
     "text": [
      "c:\\users\\zahra\\appdata\\local\\programs\\python\\python39\\lib\\site-packages\\sklearn\\linear_model\\_logistic.py:763: ConvergenceWarning: lbfgs failed to converge (status=1):\n",
      "STOP: TOTAL NO. of ITERATIONS REACHED LIMIT.\n",
      "\n",
      "Increase the number of iterations (max_iter) or scale the data as shown in:\n",
      "    https://scikit-learn.org/stable/modules/preprocessing.html\n",
      "Please also refer to the documentation for alternative solver options:\n",
      "    https://scikit-learn.org/stable/modules/linear_model.html#logistic-regression\n",
      "  n_iter_i = _check_optimize_result(\n",
      "c:\\users\\zahra\\appdata\\local\\programs\\python\\python39\\lib\\site-packages\\sklearn\\linear_model\\_logistic.py:763: ConvergenceWarning: lbfgs failed to converge (status=1):\n",
      "STOP: TOTAL NO. of ITERATIONS REACHED LIMIT.\n",
      "\n",
      "Increase the number of iterations (max_iter) or scale the data as shown in:\n",
      "    https://scikit-learn.org/stable/modules/preprocessing.html\n",
      "Please also refer to the documentation for alternative solver options:\n",
      "    https://scikit-learn.org/stable/modules/linear_model.html#logistic-regression\n",
      "  n_iter_i = _check_optimize_result(\n",
      "c:\\users\\zahra\\appdata\\local\\programs\\python\\python39\\lib\\site-packages\\sklearn\\linear_model\\_logistic.py:763: ConvergenceWarning: lbfgs failed to converge (status=1):\n",
      "STOP: TOTAL NO. of ITERATIONS REACHED LIMIT.\n",
      "\n",
      "Increase the number of iterations (max_iter) or scale the data as shown in:\n",
      "    https://scikit-learn.org/stable/modules/preprocessing.html\n",
      "Please also refer to the documentation for alternative solver options:\n",
      "    https://scikit-learn.org/stable/modules/linear_model.html#logistic-regression\n",
      "  n_iter_i = _check_optimize_result(\n",
      "c:\\users\\zahra\\appdata\\local\\programs\\python\\python39\\lib\\site-packages\\sklearn\\linear_model\\_logistic.py:763: ConvergenceWarning: lbfgs failed to converge (status=1):\n",
      "STOP: TOTAL NO. of ITERATIONS REACHED LIMIT.\n",
      "\n",
      "Increase the number of iterations (max_iter) or scale the data as shown in:\n",
      "    https://scikit-learn.org/stable/modules/preprocessing.html\n",
      "Please also refer to the documentation for alternative solver options:\n",
      "    https://scikit-learn.org/stable/modules/linear_model.html#logistic-regression\n",
      "  n_iter_i = _check_optimize_result(\n",
      "c:\\users\\zahra\\appdata\\local\\programs\\python\\python39\\lib\\site-packages\\sklearn\\linear_model\\_logistic.py:763: ConvergenceWarning: lbfgs failed to converge (status=1):\n",
      "STOP: TOTAL NO. of ITERATIONS REACHED LIMIT.\n",
      "\n",
      "Increase the number of iterations (max_iter) or scale the data as shown in:\n",
      "    https://scikit-learn.org/stable/modules/preprocessing.html\n",
      "Please also refer to the documentation for alternative solver options:\n",
      "    https://scikit-learn.org/stable/modules/linear_model.html#logistic-regression\n",
      "  n_iter_i = _check_optimize_result(\n"
     ]
    },
    {
     "name": "stdout",
     "output_type": "stream",
     "text": [
      "C =  1\n",
      "1.0\n",
      "0.7148550724637681\n",
      "------------------\n"
     ]
    },
    {
     "name": "stderr",
     "output_type": "stream",
     "text": [
      "c:\\users\\zahra\\appdata\\local\\programs\\python\\python39\\lib\\site-packages\\sklearn\\linear_model\\_logistic.py:763: ConvergenceWarning: lbfgs failed to converge (status=1):\n",
      "STOP: TOTAL NO. of ITERATIONS REACHED LIMIT.\n",
      "\n",
      "Increase the number of iterations (max_iter) or scale the data as shown in:\n",
      "    https://scikit-learn.org/stable/modules/preprocessing.html\n",
      "Please also refer to the documentation for alternative solver options:\n",
      "    https://scikit-learn.org/stable/modules/linear_model.html#logistic-regression\n",
      "  n_iter_i = _check_optimize_result(\n",
      "c:\\users\\zahra\\appdata\\local\\programs\\python\\python39\\lib\\site-packages\\sklearn\\linear_model\\_logistic.py:763: ConvergenceWarning: lbfgs failed to converge (status=1):\n",
      "STOP: TOTAL NO. of ITERATIONS REACHED LIMIT.\n",
      "\n",
      "Increase the number of iterations (max_iter) or scale the data as shown in:\n",
      "    https://scikit-learn.org/stable/modules/preprocessing.html\n",
      "Please also refer to the documentation for alternative solver options:\n",
      "    https://scikit-learn.org/stable/modules/linear_model.html#logistic-regression\n",
      "  n_iter_i = _check_optimize_result(\n",
      "c:\\users\\zahra\\appdata\\local\\programs\\python\\python39\\lib\\site-packages\\sklearn\\linear_model\\_logistic.py:763: ConvergenceWarning: lbfgs failed to converge (status=1):\n",
      "STOP: TOTAL NO. of ITERATIONS REACHED LIMIT.\n",
      "\n",
      "Increase the number of iterations (max_iter) or scale the data as shown in:\n",
      "    https://scikit-learn.org/stable/modules/preprocessing.html\n",
      "Please also refer to the documentation for alternative solver options:\n",
      "    https://scikit-learn.org/stable/modules/linear_model.html#logistic-regression\n",
      "  n_iter_i = _check_optimize_result(\n",
      "c:\\users\\zahra\\appdata\\local\\programs\\python\\python39\\lib\\site-packages\\sklearn\\linear_model\\_logistic.py:763: ConvergenceWarning: lbfgs failed to converge (status=1):\n",
      "STOP: TOTAL NO. of ITERATIONS REACHED LIMIT.\n",
      "\n",
      "Increase the number of iterations (max_iter) or scale the data as shown in:\n",
      "    https://scikit-learn.org/stable/modules/preprocessing.html\n",
      "Please also refer to the documentation for alternative solver options:\n",
      "    https://scikit-learn.org/stable/modules/linear_model.html#logistic-regression\n",
      "  n_iter_i = _check_optimize_result(\n"
     ]
    },
    {
     "name": "stdout",
     "output_type": "stream",
     "text": [
      "C =  10\n",
      "1.0\n",
      "0.672463768115942\n",
      "------------------\n"
     ]
    },
    {
     "name": "stderr",
     "output_type": "stream",
     "text": [
      "c:\\users\\zahra\\appdata\\local\\programs\\python\\python39\\lib\\site-packages\\sklearn\\linear_model\\_logistic.py:763: ConvergenceWarning: lbfgs failed to converge (status=1):\n",
      "STOP: TOTAL NO. of ITERATIONS REACHED LIMIT.\n",
      "\n",
      "Increase the number of iterations (max_iter) or scale the data as shown in:\n",
      "    https://scikit-learn.org/stable/modules/preprocessing.html\n",
      "Please also refer to the documentation for alternative solver options:\n",
      "    https://scikit-learn.org/stable/modules/linear_model.html#logistic-regression\n",
      "  n_iter_i = _check_optimize_result(\n",
      "c:\\users\\zahra\\appdata\\local\\programs\\python\\python39\\lib\\site-packages\\sklearn\\linear_model\\_logistic.py:763: ConvergenceWarning: lbfgs failed to converge (status=1):\n",
      "STOP: TOTAL NO. of ITERATIONS REACHED LIMIT.\n",
      "\n",
      "Increase the number of iterations (max_iter) or scale the data as shown in:\n",
      "    https://scikit-learn.org/stable/modules/preprocessing.html\n",
      "Please also refer to the documentation for alternative solver options:\n",
      "    https://scikit-learn.org/stable/modules/linear_model.html#logistic-regression\n",
      "  n_iter_i = _check_optimize_result(\n",
      "c:\\users\\zahra\\appdata\\local\\programs\\python\\python39\\lib\\site-packages\\sklearn\\linear_model\\_logistic.py:763: ConvergenceWarning: lbfgs failed to converge (status=1):\n",
      "STOP: TOTAL NO. of ITERATIONS REACHED LIMIT.\n",
      "\n",
      "Increase the number of iterations (max_iter) or scale the data as shown in:\n",
      "    https://scikit-learn.org/stable/modules/preprocessing.html\n",
      "Please also refer to the documentation for alternative solver options:\n",
      "    https://scikit-learn.org/stable/modules/linear_model.html#logistic-regression\n",
      "  n_iter_i = _check_optimize_result(\n",
      "c:\\users\\zahra\\appdata\\local\\programs\\python\\python39\\lib\\site-packages\\sklearn\\linear_model\\_logistic.py:763: ConvergenceWarning: lbfgs failed to converge (status=1):\n",
      "STOP: TOTAL NO. of ITERATIONS REACHED LIMIT.\n",
      "\n",
      "Increase the number of iterations (max_iter) or scale the data as shown in:\n",
      "    https://scikit-learn.org/stable/modules/preprocessing.html\n",
      "Please also refer to the documentation for alternative solver options:\n",
      "    https://scikit-learn.org/stable/modules/linear_model.html#logistic-regression\n",
      "  n_iter_i = _check_optimize_result(\n",
      "c:\\users\\zahra\\appdata\\local\\programs\\python\\python39\\lib\\site-packages\\sklearn\\linear_model\\_logistic.py:763: ConvergenceWarning: lbfgs failed to converge (status=1):\n",
      "STOP: TOTAL NO. of ITERATIONS REACHED LIMIT.\n",
      "\n",
      "Increase the number of iterations (max_iter) or scale the data as shown in:\n",
      "    https://scikit-learn.org/stable/modules/preprocessing.html\n",
      "Please also refer to the documentation for alternative solver options:\n",
      "    https://scikit-learn.org/stable/modules/linear_model.html#logistic-regression\n",
      "  n_iter_i = _check_optimize_result(\n"
     ]
    },
    {
     "name": "stdout",
     "output_type": "stream",
     "text": [
      "C =  100\n",
      "1.0\n",
      "0.672463768115942\n",
      "------------------\n"
     ]
    },
    {
     "name": "stderr",
     "output_type": "stream",
     "text": [
      "c:\\users\\zahra\\appdata\\local\\programs\\python\\python39\\lib\\site-packages\\sklearn\\linear_model\\_logistic.py:763: ConvergenceWarning: lbfgs failed to converge (status=1):\n",
      "STOP: TOTAL NO. of ITERATIONS REACHED LIMIT.\n",
      "\n",
      "Increase the number of iterations (max_iter) or scale the data as shown in:\n",
      "    https://scikit-learn.org/stable/modules/preprocessing.html\n",
      "Please also refer to the documentation for alternative solver options:\n",
      "    https://scikit-learn.org/stable/modules/linear_model.html#logistic-regression\n",
      "  n_iter_i = _check_optimize_result(\n",
      "c:\\users\\zahra\\appdata\\local\\programs\\python\\python39\\lib\\site-packages\\sklearn\\linear_model\\_logistic.py:763: ConvergenceWarning: lbfgs failed to converge (status=1):\n",
      "STOP: TOTAL NO. of ITERATIONS REACHED LIMIT.\n",
      "\n",
      "Increase the number of iterations (max_iter) or scale the data as shown in:\n",
      "    https://scikit-learn.org/stable/modules/preprocessing.html\n",
      "Please also refer to the documentation for alternative solver options:\n",
      "    https://scikit-learn.org/stable/modules/linear_model.html#logistic-regression\n",
      "  n_iter_i = _check_optimize_result(\n",
      "c:\\users\\zahra\\appdata\\local\\programs\\python\\python39\\lib\\site-packages\\sklearn\\linear_model\\_logistic.py:763: ConvergenceWarning: lbfgs failed to converge (status=1):\n",
      "STOP: TOTAL NO. of ITERATIONS REACHED LIMIT.\n",
      "\n",
      "Increase the number of iterations (max_iter) or scale the data as shown in:\n",
      "    https://scikit-learn.org/stable/modules/preprocessing.html\n",
      "Please also refer to the documentation for alternative solver options:\n",
      "    https://scikit-learn.org/stable/modules/linear_model.html#logistic-regression\n",
      "  n_iter_i = _check_optimize_result(\n",
      "c:\\users\\zahra\\appdata\\local\\programs\\python\\python39\\lib\\site-packages\\sklearn\\linear_model\\_logistic.py:763: ConvergenceWarning: lbfgs failed to converge (status=1):\n",
      "STOP: TOTAL NO. of ITERATIONS REACHED LIMIT.\n",
      "\n",
      "Increase the number of iterations (max_iter) or scale the data as shown in:\n",
      "    https://scikit-learn.org/stable/modules/preprocessing.html\n",
      "Please also refer to the documentation for alternative solver options:\n",
      "    https://scikit-learn.org/stable/modules/linear_model.html#logistic-regression\n",
      "  n_iter_i = _check_optimize_result(\n"
     ]
    },
    {
     "name": "stdout",
     "output_type": "stream",
     "text": [
      "C =  1000\n",
      "1.0\n",
      "0.6637681159420289\n",
      "------------------\n"
     ]
    },
    {
     "name": "stderr",
     "output_type": "stream",
     "text": [
      "c:\\users\\zahra\\appdata\\local\\programs\\python\\python39\\lib\\site-packages\\sklearn\\linear_model\\_logistic.py:763: ConvergenceWarning: lbfgs failed to converge (status=1):\n",
      "STOP: TOTAL NO. of ITERATIONS REACHED LIMIT.\n",
      "\n",
      "Increase the number of iterations (max_iter) or scale the data as shown in:\n",
      "    https://scikit-learn.org/stable/modules/preprocessing.html\n",
      "Please also refer to the documentation for alternative solver options:\n",
      "    https://scikit-learn.org/stable/modules/linear_model.html#logistic-regression\n",
      "  n_iter_i = _check_optimize_result(\n"
     ]
    }
   ],
   "source": [
    "from sklearn.preprocessing import PolynomialFeatures\n",
    "\n",
    "x_poly = PolynomialFeatures(degree=5).fit_transform(x)\n",
    "for c in [0.0001, 0.001, 0.01, 0.1, 1, 10, 100, 1000]:\n",
    "    train_score = 0\n",
    "    val_score = 0\n",
    "    s = KFold(n_splits=5)\n",
    "    \n",
    "    for train_folds , val_folds in kfold.split(x , y):\n",
    "        train_x = x_poly[train_folds]\n",
    "        train_y = y[train_folds]\n",
    "\n",
    "        val_x = x_poly[val_folds]\n",
    "        val_y = y[val_folds]\n",
    "        \n",
    "#         train_x = sc.transform(train_x)\n",
    "#         val_x = sc.transform(val_x)\n",
    "\n",
    "        clf = LogisticRegression(C=c)\n",
    "        clf.fit(train_x, train_y)\n",
    "\n",
    "        train_score += clf.score(train_x, train_y)\n",
    "        val_score += clf.score(val_x, val_y)\n",
    "    \n",
    "    \n",
    "    print('C = ', c)\n",
    "    print(train_score / 5)\n",
    "    print(val_score / 5)\n",
    "    print('------------------')\n",
    "    \n",
    "    \n",
    "#     result : with c = 0.1 we got best fit"
   ]
  },
  {
   "cell_type": "markdown",
   "id": "04536f1c",
   "metadata": {},
   "source": [
    "# Conclusion : best fit :\n"
   ]
  },
  {
   "cell_type": "code",
   "execution_count": 10,
   "id": "4c2ae228",
   "metadata": {},
   "outputs": [
    {
     "name": "stderr",
     "output_type": "stream",
     "text": [
      "c:\\users\\zahra\\appdata\\local\\programs\\python\\python39\\lib\\site-packages\\sklearn\\linear_model\\_logistic.py:763: ConvergenceWarning: lbfgs failed to converge (status=1):\n",
      "STOP: TOTAL NO. of ITERATIONS REACHED LIMIT.\n",
      "\n",
      "Increase the number of iterations (max_iter) or scale the data as shown in:\n",
      "    https://scikit-learn.org/stable/modules/preprocessing.html\n",
      "Please also refer to the documentation for alternative solver options:\n",
      "    https://scikit-learn.org/stable/modules/linear_model.html#logistic-regression\n",
      "  n_iter_i = _check_optimize_result(\n",
      "c:\\users\\zahra\\appdata\\local\\programs\\python\\python39\\lib\\site-packages\\sklearn\\linear_model\\_logistic.py:763: ConvergenceWarning: lbfgs failed to converge (status=1):\n",
      "STOP: TOTAL NO. of ITERATIONS REACHED LIMIT.\n",
      "\n",
      "Increase the number of iterations (max_iter) or scale the data as shown in:\n",
      "    https://scikit-learn.org/stable/modules/preprocessing.html\n",
      "Please also refer to the documentation for alternative solver options:\n",
      "    https://scikit-learn.org/stable/modules/linear_model.html#logistic-regression\n",
      "  n_iter_i = _check_optimize_result(\n"
     ]
    },
    {
     "name": "stdout",
     "output_type": "stream",
     "text": [
      "train_score : \n",
      "0.9762739597942964\n",
      "val_score : \n",
      "0.7420289855072463\n"
     ]
    },
    {
     "name": "stderr",
     "output_type": "stream",
     "text": [
      "c:\\users\\zahra\\appdata\\local\\programs\\python\\python39\\lib\\site-packages\\sklearn\\linear_model\\_logistic.py:763: ConvergenceWarning: lbfgs failed to converge (status=1):\n",
      "STOP: TOTAL NO. of ITERATIONS REACHED LIMIT.\n",
      "\n",
      "Increase the number of iterations (max_iter) or scale the data as shown in:\n",
      "    https://scikit-learn.org/stable/modules/preprocessing.html\n",
      "Please also refer to the documentation for alternative solver options:\n",
      "    https://scikit-learn.org/stable/modules/linear_model.html#logistic-regression\n",
      "  n_iter_i = _check_optimize_result(\n"
     ]
    },
    {
     "data": {
      "text/plain": [
       "array([[ 0.00026668, -0.06158771, -0.10204667, ...,  0.01738718,\n",
       "         0.0356022 , -0.06303923]])"
      ]
     },
     "execution_count": 10,
     "metadata": {},
     "output_type": "execute_result"
    }
   ],
   "source": [
    "train_score = 0\n",
    "val_score =0 \n",
    "\n",
    "x_poly = PolynomialFeatures(degree=5).fit_transform(x)\n",
    "kfold = KFold(n_splits=5)\n",
    "\n",
    "for train_folds , val_folds in kfold.split(x , y) :\n",
    "    \n",
    "    x_train = x_poly[train_folds]\n",
    "    y_train = y[train_folds]\n",
    "    \n",
    "    x_val = x_poly[val_folds]\n",
    "    y_val= y[val_folds]\n",
    "    \n",
    "#     clf=LogisticRegression()\n",
    "    clf = LogisticRegression( penalty='l2' ,C=0.1 )\n",
    "    clf.fit( x_train , y_train )\n",
    "    \n",
    "    train_score += clf.score(x_train, y_train)\n",
    "    \n",
    "    val_score += clf.score(x_val, y_val)\n",
    "\n",
    "    \n",
    "print(\"train_score : \")\n",
    "print(train_score / 5)\n",
    "\n",
    "print(\"val_score : \")\n",
    "print(val_score / 5)\n",
    "\n",
    "clf.coef_"
   ]
  },
  {
   "cell_type": "markdown",
   "id": "779dd16d",
   "metadata": {},
   "source": [
    "# trying train test validation speliting :\n",
    "    "
   ]
  },
  {
   "cell_type": "code",
   "execution_count": 12,
   "id": "c4f3751e",
   "metadata": {},
   "outputs": [
    {
     "name": "stdout",
     "output_type": "stream",
     "text": [
      "train_score : 0.9876543209876543\n",
      "test_score : 0.782608695652174\n",
      "val_score : 0.75\n"
     ]
    }
   ],
   "source": [
    "x_poly=data.to_numpy()\n",
    "x_poly = PolynomialFeatures(degree=5).fit_transform(x)\n",
    "split1=int(0.7 * x.shape[0])\n",
    "split2=int(0.9 * x.shape[0])\n",
    "\n",
    "\n",
    "train_x=x_poly[:split1]\n",
    "train_y=y[:split1]\n",
    "\n",
    "test_x=x_poly[split1:split2]\n",
    "test_y=y[split1:split2]\n",
    "\n",
    "val_x=x_poly[split2:]\n",
    "val_y=y[split2:]\n",
    "\n",
    "clf = LogisticRegression( penalty='l2' ,C=0.1 , max_iter=100)\n",
    "# clf = LogisticRegression()\n",
    "\n",
    "clf.fit( train_x , train_y )\n",
    "    \n",
    "print(\"train_score :\" , clf.score( train_x , train_y ))\n",
    "    \n",
    "print(\"test_score :\" , clf.score( test_x , test_y ))\n",
    "    \n",
    "print(\"val_score :\" , clf.score( val_x , val_y ))\n"
   ]
  }
 ],
 "metadata": {
  "kernelspec": {
   "display_name": "Python 3 (ipykernel)",
   "language": "python",
   "name": "python3"
  },
  "language_info": {
   "codemirror_mode": {
    "name": "ipython",
    "version": 3
   },
   "file_extension": ".py",
   "mimetype": "text/x-python",
   "name": "python",
   "nbconvert_exporter": "python",
   "pygments_lexer": "ipython3",
   "version": "3.9.6"
  }
 },
 "nbformat": 4,
 "nbformat_minor": 5
}
