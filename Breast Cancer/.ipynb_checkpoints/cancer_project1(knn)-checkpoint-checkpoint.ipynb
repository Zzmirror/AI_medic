{
 "cells": [
  {
   "cell_type": "code",
   "execution_count": 7,
   "id": "dd233195",
   "metadata": {},
   "outputs": [],
   "source": [
    "import numpy as np\n",
    "import pandas as pd\n",
    "import matplotlib.pyplot as plt\n",
    "from sklearn.neighbors import KNeighborsClassifier\n",
    "from sklearn.model_selection import train_test_split, KFold\n"
   ]
  },
  {
   "cell_type": "code",
   "execution_count": 8,
   "id": "12ca38c6",
   "metadata": {},
   "outputs": [],
   "source": [
    "data = pd.read_csv('..\\..\\Documents\\dataR2.csv')\n",
    "X=data.to_numpy()\n"
   ]
  },
  {
   "cell_type": "markdown",
   "id": "47a9c566",
   "metadata": {},
   "source": [
    "# shuffle data  and spliting x & y  & z_score regularization: "
   ]
  },
  {
   "cell_type": "code",
   "execution_count": 9,
   "id": "5ddf12fb",
   "metadata": {},
   "outputs": [],
   "source": [
    "np.random.seed = 0\n",
    "X = X[np.random.permutation(X.shape[0])]\n",
    "\n",
    "y = X[:, -1]\n",
    "X = X[:, :-1]\n",
    "X = (X - X.mean(axis=0)) / X.std(axis=0)"
   ]
  },
  {
   "cell_type": "markdown",
   "id": "bb7bafef",
   "metadata": {},
   "source": [
    "# simple spliting"
   ]
  },
  {
   "cell_type": "code",
   "execution_count": 19,
   "id": "712a0e8d",
   "metadata": {},
   "outputs": [
    {
     "name": "stdout",
     "output_type": "stream",
     "text": [
      "train score : 0.7934782608695652\n",
      "test score : 0.7916666666666666\n"
     ]
    }
   ],
   "source": [
    "\n",
    "split = int(X.shape[0] * 0.8)\n",
    "\n",
    "X_train = X[:split]\n",
    "y_train = y[:split]\n",
    "\n",
    "X_test = X[split:]\n",
    "y_test = y[split:]\n",
    "\n",
    "from sklearn.neighbors import KNeighborsClassifier\n",
    "\n",
    "clf = KNeighborsClassifier(n_neighbors=5 )\n",
    "clf.fit(X_train, y_train)\n",
    "\n",
    "\n",
    "print(\"train score :\" ,clf.score(X_train, y_train))\n",
    "print(\"test score :\" , clf.score(X_test, y_test))\n",
    "\n",
    "# result : good"
   ]
  },
  {
   "cell_type": "markdown",
   "id": "f32244e8",
   "metadata": {},
   "source": [
    "# kfold spliting "
   ]
  },
  {
   "cell_type": "code",
   "execution_count": 15,
   "id": "fc40d0e3",
   "metadata": {},
   "outputs": [
    {
     "name": "stdout",
     "output_type": "stream",
     "text": [
      "neighbors =  1\n",
      "train score : 1.0\n",
      "vlidation score : 0.6807971014492754\n",
      "------------------\n",
      "neighbors =  2\n",
      "train score : 0.8167134174848061\n",
      "vlidation score : 0.6467391304347826\n",
      "------------------\n",
      "neighbors =  3\n",
      "train score : 0.8232351566152408\n",
      "vlidation score : 0.7416666666666667\n",
      "------------------\n",
      "neighbors =  5\n",
      "train score : 0.8253856942496494\n",
      "vlidation score : 0.7496376811594203\n",
      "------------------\n",
      "neighbors =  7\n",
      "train score : 0.8319074333800842\n",
      "vlidation score : 0.7416666666666667\n",
      "------------------\n",
      "neighbors =  9\n",
      "train score : 0.8017297802711548\n",
      "vlidation score : 0.6974637681159419\n",
      "------------------\n",
      "neighbors =  10\n",
      "train score : 0.7909537166900421\n",
      "vlidation score : 0.6807971014492754\n",
      "------------------\n",
      "neighbors =  11\n",
      "train score : 0.7823048153342684\n",
      "vlidation score : 0.6898550724637682\n",
      "------------------\n"
     ]
    }
   ],
   "source": [
    "\n",
    "neighbors=[1 , 2 , 3 , 5 , 7 , 9 , 10 , 11]\n",
    "\n",
    "for n in neighbors :\n",
    "\n",
    "    kfold=KFold(n_splits=5)\n",
    "    val_score = 0\n",
    "    train_score =0\n",
    "\n",
    "    \n",
    "    for train_data , val_data in kfold.split(X , y) :\n",
    "        train_x = X[train_data]\n",
    "        train_y = y[train_data]\n",
    "\n",
    "        val_x= X[val_data]\n",
    "        val_y = y[val_data]\n",
    "\n",
    "        clf=KNeighborsClassifier(n_neighbors=n)\n",
    "        clf.fit(train_x , train_y )\n",
    "\n",
    "        train_score += clf.score(train_x, train_y)\n",
    "        val_score += clf.score(val_x,val_y)\n",
    "    \n",
    "    print('neighbors = ', n)\n",
    "    print(\"train score :\" , train_score / 5)\n",
    "    print(\"vlidation score :\" , val_score / 5)\n",
    "    print('------------------')\n",
    "    "
   ]
  },
  {
   "cell_type": "markdown",
   "id": "723ce0eb",
   "metadata": {},
   "source": [
    "# conclusion\n"
   ]
  },
  {
   "cell_type": "markdown",
   "id": "dbaac28f",
   "metadata": {},
   "source": [
    "simple spliting with k=5 was best fit with 79% score\n",
    "\n",
    "after that k_fold splitting  with 5 neighbors  with 0.7496 score\n"
   ]
  },
  {
   "cell_type": "code",
   "execution_count": null,
   "id": "ef85cb41",
   "metadata": {},
   "outputs": [],
   "source": []
  }
 ],
 "metadata": {
  "kernelspec": {
   "display_name": "Python 3 (ipykernel)",
   "language": "python",
   "name": "python3"
  },
  "language_info": {
   "codemirror_mode": {
    "name": "ipython",
    "version": 3
   },
   "file_extension": ".py",
   "mimetype": "text/x-python",
   "name": "python",
   "nbconvert_exporter": "python",
   "pygments_lexer": "ipython3",
   "version": "3.9.6"
  }
 },
 "nbformat": 4,
 "nbformat_minor": 5
}
