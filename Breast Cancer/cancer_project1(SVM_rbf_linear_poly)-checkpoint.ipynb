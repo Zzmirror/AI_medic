{
 "cells": [
  {
   "cell_type": "code",
   "execution_count": 2,
   "id": "3bba9c7f",
   "metadata": {},
   "outputs": [],
   "source": [
    "import numpy as np\n",
    "import matplotlib.pyplot as plt\n",
    "\n",
    "import pandas as pd\n",
    "from sklearn.svm import SVC\n",
    "from sklearn.model_selection import train_test_split, KFold\n"
   ]
  },
  {
   "cell_type": "code",
   "execution_count": 3,
   "id": "ddea7560",
   "metadata": {},
   "outputs": [],
   "source": [
    "data = pd.read_csv('..\\..\\Documents\\dataR2.csv')\n",
    "X=data.to_numpy()\n"
   ]
  },
  {
   "cell_type": "markdown",
   "id": "6ebceb43",
   "metadata": {},
   "source": [
    "# shuffle data  and spliting x & y :"
   ]
  },
  {
   "cell_type": "code",
   "execution_count": 4,
   "id": "25ac889b",
   "metadata": {},
   "outputs": [],
   "source": [
    "np.random.seed = 0\n",
    "X = X[np.random.permutation(X.shape[0])]\n",
    "y = X[:, -1]\n",
    "X = X[:, :-1]\n"
   ]
  },
  {
   "cell_type": "markdown",
   "id": "53e130d4",
   "metadata": {},
   "source": [
    "# simple test and train spliting with normalising test with train.mean"
   ]
  },
  {
   "cell_type": "code",
   "execution_count": 5,
   "id": "b07b3014",
   "metadata": {},
   "outputs": [
    {
     "name": "stdout",
     "output_type": "stream",
     "text": [
      "train_score_rbf : 0.8913043478260869\n",
      "test_score_rbf : 0.5416666666666666\n",
      "train_score_linear : 0.7934782608695652\n",
      "test_score_linear : 0.4583333333333333\n"
     ]
    }
   ],
   "source": [
    "split=int(0.8 * X.shape[0])\n",
    "train_x = X[:split]\n",
    "trian_y = y[:split]\n",
    "train_x = (train_x-train_x.mean(axis=0))/train_x.std(axis=0)\n",
    "\n",
    "test_x = X[split:]\n",
    "test_x = (test_x-train_x.mean(axis=0))/train_x.std(axis=0)\n",
    "test_y = y[split:]\n",
    "\n",
    "clf_rbf=SVC(kernel='rbf')\n",
    "clf_rbf.fit( train_x , trian_y )\n",
    "clf_linear=SVC(kernel='linear')\n",
    "clf_linear.fit( train_x , trian_y )\n",
    "\n",
    "print(\"train_score_rbf :\" , clf_rbf.score(train_x , trian_y))\n",
    "print(\"test_score_rbf :\" , clf_rbf.score(test_x , test_y))\n",
    "\n",
    "print(\"train_score_linear :\" , clf_linear.score(train_x , trian_y))\n",
    "print(\"test_score_linear :\" , clf_linear.score(test_x , test_y))\n",
    "\n",
    "# result : underfitting in both linear  and rbf kernel\n"
   ]
  },
  {
   "cell_type": "markdown",
   "id": "5d37bba1",
   "metadata": {},
   "source": [
    "# z_score normaliziation :"
   ]
  },
  {
   "cell_type": "code",
   "execution_count": 6,
   "id": "01edac6a",
   "metadata": {},
   "outputs": [],
   "source": [
    "X = (X - X.mean(axis=0)) / X.std(axis=0)\n"
   ]
  },
  {
   "cell_type": "markdown",
   "id": "6ac8c4d4",
   "metadata": {},
   "source": [
    "# kfold splliting & rbf kernel :"
   ]
  },
  {
   "cell_type": "code",
   "execution_count": 7,
   "id": "50cc5f39",
   "metadata": {},
   "outputs": [
    {
     "name": "stdout",
     "output_type": "stream",
     "text": [
      "train_score : \n",
      "0.8880084151472651\n",
      "val_score : \n",
      "0.7420289855072463\n"
     ]
    }
   ],
   "source": [
    "train_score = 0\n",
    "val_score =0 \n",
    "\n",
    "kfold = KFold(n_splits=5)\n",
    "\n",
    "for train_folds , val_folds in kfold.split(X , y) :\n",
    "    \n",
    "    X_train = X[train_folds]\n",
    "    y_train = y[train_folds]\n",
    "    \n",
    "    X_val = X[val_folds]\n",
    "    y_val= y[val_folds]\n",
    "    \n",
    "    clf=SVC(kernel='rbf')\n",
    "    clf.fit( X_train , y_train )\n",
    "    \n",
    "    train_score += clf.score(X_train, y_train)\n",
    "    \n",
    "    val_score += clf.score(X_val, y_val)\n",
    "\n",
    "    \n",
    "print(\"train_score : \")\n",
    "print(train_score / 5)\n",
    "\n",
    "print(\"val_score : \")\n",
    "print(val_score / 5)\n",
    "\n",
    "      \n"
   ]
  },
  {
   "cell_type": "markdown",
   "id": "2de54f1e",
   "metadata": {},
   "source": [
    "# kfold splliting & linear kernel :"
   ]
  },
  {
   "cell_type": "code",
   "execution_count": 8,
   "id": "85de6262",
   "metadata": {},
   "outputs": [
    {
     "name": "stdout",
     "output_type": "stream",
     "text": [
      "train_score : \n",
      "0.8017999064983637\n",
      "val_score : \n",
      "0.725\n"
     ]
    }
   ],
   "source": [
    "train_score = 0\n",
    "val_score =0 \n",
    "\n",
    "kfold = KFold(n_splits=5)\n",
    "\n",
    "for train_folds , val_folds in kfold.split(X , y) :\n",
    "    \n",
    "    X_train = X[train_folds]\n",
    "    y_train = y[train_folds]\n",
    "    \n",
    "    X_val = X[val_folds]\n",
    "    y_val= y[val_folds]\n",
    "    \n",
    "    clf=SVC(kernel='linear')\n",
    "    clf.fit( X_train , y_train )\n",
    "    \n",
    "    \n",
    "    train_score += clf.score(X_train, y_train)\n",
    "    \n",
    "    val_score += clf.score(X_val, y_val)\n",
    "\n",
    "    \n",
    "print(\"train_score : \")\n",
    "print(train_score / 5)\n",
    "\n",
    "print(\"val_score : \")\n",
    "print(val_score / 5)\n",
    "\n"
   ]
  },
  {
   "cell_type": "markdown",
   "id": "85c04222",
   "metadata": {},
   "source": [
    "# kfold splliting & poly kernel :"
   ]
  },
  {
   "cell_type": "code",
   "execution_count": 9,
   "id": "7684356e",
   "metadata": {},
   "outputs": [
    {
     "name": "stdout",
     "output_type": "stream",
     "text": [
      "degree =  3\n",
      "0.8103319308087892\n",
      "0.6992753623188406\n",
      "------------------\n",
      "degree =  4\n",
      "0.728494623655914\n",
      "0.6297101449275362\n",
      "------------------\n",
      "degree =  5\n",
      "0.7090930341280972\n",
      "0.5340579710144927\n",
      "------------------\n",
      "degree =  6\n",
      "0.685413744740533\n",
      "0.4913043478260869\n",
      "------------------\n"
     ]
    }
   ],
   "source": [
    "for d in [ 3 , 4 , 5 , 6]:\n",
    "    train_score = 0\n",
    "    val_score = 0\n",
    "    s = KFold(n_splits=5)\n",
    "    \n",
    "    for train_folds , val_folds in kfold.split(X , y) :\n",
    "    \n",
    "        X_train = X[train_folds]\n",
    "        y_train = y[train_folds]\n",
    "\n",
    "        X_val = X[val_folds]\n",
    "        y_val= y[val_folds]\n",
    "        \n",
    "        clf = SVC(degree=d, kernel='poly')\n",
    "        clf.fit(X_train, y_train)\n",
    "\n",
    "        train_score += clf.score(X_train, y_train)\n",
    "    \n",
    "        val_score += clf.score(X_val, y_val)\n",
    "        \n",
    "        \n",
    "    print('degree = ', d)\n",
    "    print(train_score / 5)\n",
    "    print(val_score / 5)\n",
    "    print('------------------')\n",
    "\n",
    "#     result: we dont need poly kernel  \n"
   ]
  },
  {
   "cell_type": "markdown",
   "id": "0f04c1bb",
   "metadata": {},
   "source": [
    "# kfold splliting & rbf kernel  & regularization :"
   ]
  },
  {
   "cell_type": "code",
   "execution_count": 10,
   "id": "821f0dd1",
   "metadata": {},
   "outputs": [
    {
     "name": "stdout",
     "output_type": "stream",
     "text": [
      "C =  0.01\n",
      "0.5517531556802243\n",
      "0.5521739130434782\n",
      "------------------\n",
      "C =  0.1\n",
      "0.5517531556802243\n",
      "0.5521739130434782\n",
      "------------------\n",
      "C =  1\n",
      "0.8880084151472651\n",
      "0.7420289855072463\n",
      "------------------\n",
      "C =  10\n",
      "0.9677185600748013\n",
      "0.7590579710144928\n",
      "------------------\n",
      "C =  100\n",
      "0.9978494623655914\n",
      "0.6981884057971014\n",
      "------------------\n",
      "C =  1000\n",
      "1.0\n",
      "0.6811594202898551\n",
      "------------------\n"
     ]
    }
   ],
   "source": [
    "for c in [0.01, 0.1, 1, 10, 100, 1000]:\n",
    "    train_score = 0\n",
    "    val_score = 0\n",
    "    s = KFold(n_splits=5)\n",
    "    \n",
    "    for train_folds , val_folds in kfold.split(X , y) :\n",
    "    \n",
    "        X_train = X[train_folds]\n",
    "        y_train = y[train_folds]\n",
    "\n",
    "        X_val = X[val_folds]\n",
    "        y_val= y[val_folds]\n",
    "        \n",
    "        clf = SVC(C=c, kernel='rbf')\n",
    "        clf.fit(X_train, y_train)\n",
    "\n",
    "        train_score += clf.score(X_train, y_train)\n",
    "    \n",
    "        val_score += clf.score(X_val, y_val)\n",
    "        \n",
    "    print('C = ', c)\n",
    "    print(train_score / 5)\n",
    "    print(val_score / 5)\n",
    "    print('------------------')\n",
    "#     result = we dont need regularization"
   ]
  },
  {
   "cell_type": "markdown",
   "id": "40c7345f",
   "metadata": {},
   "source": [
    "# conclusion :"
   ]
  },
  {
   "cell_type": "markdown",
   "id": "ae5a4104",
   "metadata": {},
   "source": [
    "kfold splitting with rbf kernel with 0.742% score was best fit\n",
    "\n",
    "we got score = 0.9677 for train and score = 0.759 in test with fold splliting & rbf kernel & regularization with c= 10 but I  think it was overfiiting"
   ]
  },
  {
   "cell_type": "code",
   "execution_count": null,
   "id": "5eb79dc3",
   "metadata": {},
   "outputs": [],
   "source": []
  }
 ],
 "metadata": {
  "kernelspec": {
   "display_name": "Python 3 (ipykernel)",
   "language": "python",
   "name": "python3"
  },
  "language_info": {
   "codemirror_mode": {
    "name": "ipython",
    "version": 3
   },
   "file_extension": ".py",
   "mimetype": "text/x-python",
   "name": "python",
   "nbconvert_exporter": "python",
   "pygments_lexer": "ipython3",
   "version": "3.9.6"
  }
 },
 "nbformat": 4,
 "nbformat_minor": 5
}
